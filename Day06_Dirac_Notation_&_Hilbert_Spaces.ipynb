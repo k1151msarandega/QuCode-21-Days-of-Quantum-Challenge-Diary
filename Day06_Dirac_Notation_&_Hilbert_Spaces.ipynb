{
  "cells": [
    {
      "cell_type": "markdown",
      "metadata": {
        "id": "view-in-github",
        "colab_type": "text"
      },
      "source": [
        "<a href=\"https://colab.research.google.com/github/k1151msarandega/QuCode-21-Days-of-Quantum-Challenge-Diary/blob/main/Day06_Dirac_Notation_%26_Hilbert_Spaces.ipynb\" target=\"_parent\"><img src=\"https://colab.research.google.com/assets/colab-badge.svg\" alt=\"Open In Colab\"/></a>"
      ]
    },
    {
      "cell_type": "markdown",
      "metadata": {
        "id": "nzEc1b93ZFQE"
      },
      "source": [
        "# Day 06 — Dirac Notation & Hilbert Spaces\n",
        "\n",
        "> _QuCode 21 Days of Quantum Challenge — Learning notebook_\n",
        ">\n",
        "> **Date:** 2025-09-06  \n",
        "> **Author:** Kudzai Musarandega  \n",
        "> **Tags:** quantum, learning, challenge, day-06\n",
        ">\n",
        "> **Learning objectives**\n",
        "> - See **bras** as linear functionals (dual vectors) and use **bra–ket** notation fluently.\n",
        "> - Move between **kets** (state vectors), **bras** (row conjugates), and **inner / outer** products.\n",
        "> - Work with **basis states**, matrix elements `⟨i|A|j⟩`, and the **resolution of identity**.\n",
        "> - Interpret **operators**: expectation values, projectors, changes of basis, and simple measurements.\n",
        ">\n",
        ">\n",
        "> **Key takeaways (summary-first)**\n",
        "> - A **ket** $|\\psi\\rangle$ lives in a (complex) Hilbert space $\\mathcal H$.  \n",
        ">  Its **bra** is $ \\langle\\psi| \\equiv |\\psi\\rangle^\\dagger$ (conjugate transpose): a linear functional $\\mathcal H\\to\\mathbb C$.\n",
        "> - **Inner product:** $\\langle\\phi|\\psi\\rangle$ (linear in the right slot, anti-linear in the left).  \n",
        ">   **Outer product:** $|\\psi\\rangle\\langle\\phi|$ (rank-1 operator).\n",
        "> - **Resolution of identity** in an orthonormal basis $\\{|i\\rangle\\}$:  \n",
        ">  $$\\sum_i |i\\rangle\\langle i|=I\\quad\\Rightarrow\\quad |\\psi\\rangle=\\sum_i |i\\rangle\\langle i|\\psi\\rangle.$$\n",
        "> - **Matrix elements:** $A_{ij}=\\langle i|A|j\\rangle$. Expectation: $\\langle A\\rangle_\\psi=\\langle\\psi|A|\\psi\\rangle$.\n",
        "> - **Projector** onto $|\\psi\\rangle$ (normalized): $P_\\psi=|\\psi\\rangle\\langle\\psi|$, with $P_\\psi^2=P_\\psi$, $P_\\psi^\\dagger=P_\\psi$.\n",
        "> - Discrete (finite-dim) vs **continuous** bases: $\\sum_i\\to\\int \\mathrm d x$, $\\delta_{ij}\\to\\delta(x-x')$.\n",
        "\n"
      ],
      "id": "nzEc1b93ZFQE"
    },
    {
      "cell_type": "markdown",
      "metadata": {
        "id": "mW9gEyQ4ZFQM"
      },
      "source": [
        "## Resources\n",
        "- **Official/Assigned:**\n",
        "    - [Quantum Sense: What are bras and bra-ket notation? | Maths of Quantum Mechanics](https://www.youtube.com/watch?v=lRR-qgjaKlg)\n",
        "    - [Alexander (fufaev.org): Bra-Ket Notation and How to Use It](https://www.youtube.com/watch?v=mAZSmzv_asU)\n",
        "    - [For the Love of Physics: What is Dirac Notation? Kets, Bras, Inner Products & Operators](https://www.youtube.com/watch?v=I6wn0TxR2aA)\n",
        "- **Extra reading:**\n",
        "    - [Faculty of Khan: Mathematical Basis of Quantum Mechanics](https://youtube.com/playlist?list=PLdgVBOaXkb9Bv466YnyxslT4gIlSZdtjw&si=1qCgx0fNrzvOJUTE)\n",
        "- **Original notes:**\n"
      ],
      "id": "mW9gEyQ4ZFQM"
    },
    {
      "cell_type": "code",
      "metadata": {
        "id": "1bdIPfjlZFQN"
      },
      "execution_count": null,
      "outputs": [],
      "source": [
        "# %% [markdown]\n",
        "# ### Environment setup (Colab)\n",
        "# If you are running on Colab for the first time today, uncomment to install.\n",
        "# This cell intentionally avoids heavy installs by default.\n",
        "#\n",
        "# !pip -q install qiskit pennylane matplotlib numpy\n",
        "\n",
        "import sys, platform, math, json, numpy as np\n",
        "\n",
        "print(\"Python:\", sys.version.split()[0])\n",
        "print(\"Platform:\", platform.platform())\n",
        "np.random.seed(42)\n"
      ],
      "id": "1bdIPfjlZFQN"
    },
    {
      "cell_type": "markdown",
      "source": [
        "## 1) Little bra–ket helper toolkit (NumPy)"
      ],
      "metadata": {
        "id": "b0eIu03HdXWw"
      },
      "id": "b0eIu03HdXWw"
    },
    {
      "cell_type": "code",
      "metadata": {
        "id": "GxaFSrgwZFQP"
      },
      "execution_count": 1,
      "outputs": [],
      "source": [
        "## 1) Little bra–ket helper toolkit (NumPy)\n",
        "# - ket: column vector\n",
        "# - bra: conjugate transpose\n",
        "# - inner/outer, expectation, projectors, basis utilities\n",
        "\n",
        "import numpy as np\n",
        "\n",
        "def ket(vec):  # ensure column shape\n",
        "    v = np.asarray(vec, dtype=complex).reshape(-1)\n",
        "    return v\n",
        "\n",
        "def bra(v):    # ⟨v| = |v⟩†\n",
        "    return ket(v).conj().T\n",
        "\n",
        "def inner(phi, psi):      # ⟨phi|psi⟩\n",
        "    return np.vdot(phi, psi)  # np.vdot does conj(phi)·psi\n",
        "\n",
        "def outer(psi, phi):      # |psi⟩⟨phi|\n",
        "    return np.outer(ket(psi), ket(phi).conj())\n",
        "\n",
        "def proj(psi):            # |psi⟩⟨psi| (assumes normalized)\n",
        "    return outer(psi, psi)\n",
        "\n",
        "def norm(psi):\n",
        "    return np.linalg.norm(psi)\n",
        "\n",
        "def normalize(psi):\n",
        "    n = norm(psi)\n",
        "    return psi / n if n != 0 else psi\n",
        "\n",
        "def expect(A, psi):       # ⟨ψ|A|ψ⟩\n",
        "    ψ = ket(psi)\n",
        "    return bra(ψ) @ (A @ ψ)\n",
        "\n",
        "def is_projector(P, tol=1e-10):\n",
        "    return (np.allclose(P, P.conj().T, atol=tol)\n",
        "            and np.allclose(P @ P, P, atol=tol))"
      ],
      "id": "GxaFSrgwZFQP"
    },
    {
      "cell_type": "markdown",
      "source": [
        "## 2) Basis states, inner vs outer products, and resolution of identity"
      ],
      "metadata": {
        "id": "4YjUabSldZta"
      },
      "id": "4YjUabSldZta"
    },
    {
      "cell_type": "code",
      "source": [
        "## 2) Basis states, inner vs outer products, and resolution of identity\n",
        "\n",
        "# Choose a 3D toy space to see sums work out cleanly\n",
        "e0 = ket([1,0,0])\n",
        "e1 = ket([0,1,0])\n",
        "e2 = ket([0,0,1])\n",
        "ONB = [e0, e1, e2]  # orthonormal basis (computational)\n",
        "\n",
        "# Resolution of identity: ∑ |i><i| = I\n",
        "I3 = sum(outer(v, v) for v in ONB)\n",
        "print(\"Resolution of identity holds?\", np.allclose(I3, np.eye(3)))\n",
        "\n",
        "# Expand a state by inserting I = ∑ |i><i|\n",
        "psi = normalize(ket([2, 1-1j, 0.5j]))\n",
        "coeffs = [inner(v, psi) for v in ONB]       # coefficients ⟨i|ψ⟩\n",
        "reconstructed = sum(c * v for c, v in zip(coeffs, ONB))\n",
        "print(\"Reconstruction ok?\", np.allclose(psi, reconstructed))\n",
        "\n",
        "# Inner vs outer: one is scalar, the other is operator\n",
        "phi = normalize(ket([0, 1, 1j]))\n",
        "print(\"⟨φ|ψ⟩ =\", inner(phi, psi))           # complex scalar\n",
        "print(\"|ψ⟩⟨φ| shape =\", outer(psi, phi).shape)\n"
      ],
      "metadata": {
        "colab": {
          "base_uri": "https://localhost:8080/"
        },
        "id": "MPEXS3dZdTjg",
        "outputId": "54e9d961-fec3-4a42-e2a3-eebc03c26739"
      },
      "id": "MPEXS3dZdTjg",
      "execution_count": 3,
      "outputs": [
        {
          "output_type": "stream",
          "name": "stdout",
          "text": [
            "Resolution of identity holds? True\n",
            "Reconstruction ok? True\n",
            "⟨φ|ψ⟩ = (0.4242640687119285-0.282842712474619j)\n",
            "|ψ⟩⟨φ| shape = (3, 3)\n"
          ]
        }
      ]
    },
    {
      "cell_type": "markdown",
      "source": [
        "## 3) Projectors as measurements & overlaps (Born rule)"
      ],
      "metadata": {
        "id": "QzLFZbH4dfLA"
      },
      "id": "QzLFZbH4dfLA"
    },
    {
      "cell_type": "code",
      "source": [
        "## 3) Projectors as measurements & overlaps (Born rule)\n",
        "# P_ψ projects any |φ⟩ onto span{|ψ⟩}; probability of \"ψ\" when in |φ⟩ is |⟨ψ|φ⟩|^2\n",
        "\n",
        "Pψ = proj(psi)\n",
        "print(\"Pψ is a projector?\", is_projector(Pψ))\n",
        "\n",
        "# Apply Pψ to |φ⟩ and compare with overlap scalar\n",
        "φ_proj = Pψ @ phi\n",
        "amp = inner(psi, phi)      # ⟨ψ|φ⟩\n",
        "print(\"Projection equals amp*|ψ⟩ ?\", np.allclose(φ_proj, amp*psi))\n",
        "\n",
        "prob = abs(amp)**2\n",
        "print(\"Born probability |⟨ψ|φ⟩|^2 =\", prob.real)\n"
      ],
      "metadata": {
        "colab": {
          "base_uri": "https://localhost:8080/"
        },
        "id": "TmIiiPkPdc-Y",
        "outputId": "0d521f88-2438-4e78-b636-94b25b0ee9cb"
      },
      "id": "TmIiiPkPdc-Y",
      "execution_count": 4,
      "outputs": [
        {
          "output_type": "stream",
          "name": "stdout",
          "text": [
            "Pψ is a projector? True\n",
            "Projection equals amp*|ψ⟩ ? True\n",
            "Born probability |⟨ψ|φ⟩|^2 = 0.26\n"
          ]
        }
      ]
    },
    {
      "cell_type": "markdown",
      "source": [
        "## 4) Operators in a basis: matrix elements and expectation values"
      ],
      "metadata": {
        "id": "GrNDL6j3doWf"
      },
      "id": "GrNDL6j3doWf"
    },
    {
      "cell_type": "code",
      "source": [
        "## 4) Operators in a basis: matrix elements and expectation values\n",
        "# Build a Hermitian operator A from its spectral decomposition, check ⟨ψ|A|ψ⟩\n",
        "\n",
        "# Orthonormal eigenbasis { |i⟩ } with eigenvalues λ_i\n",
        "lmbdas = np.array([2.0, -1.0, 0.5])\n",
        "A = sum(lmbdas[i] * outer(ONB[i], ONB[i]) for i in range(3))  # A = ∑ λ_i |i⟩⟨i|\n",
        "print(\"Hermitian?\", np.allclose(A, A.conj().T))\n",
        "\n",
        "# Matrix elements ⟨i|A|j⟩ in ONB\n",
        "A_mat = np.array([[inner(ONB[i], A @ ONB[j]) for j in range(3)] for i in range(3)])\n",
        "print(\"Matrix of A in ONB =\\n\", A_mat)\n",
        "\n",
        "# Expectation in |ψ⟩ (two equivalent ways)\n",
        "exp1 = expect(A, psi)\n",
        "exp2 = sum(lmbdas[i] * abs(inner(ONB[i], psi))**2 for i in range(3))  # spectral weights\n",
        "print(\"⟨A⟩ via matrix =\", exp1, \" ; via spectrum =\", exp2)\n"
      ],
      "metadata": {
        "colab": {
          "base_uri": "https://localhost:8080/"
        },
        "id": "FFxd6nA4dlo8",
        "outputId": "cf60029a-2cde-4725-c43d-51509e091fc1"
      },
      "id": "FFxd6nA4dlo8",
      "execution_count": 5,
      "outputs": [
        {
          "output_type": "stream",
          "name": "stdout",
          "text": [
            "Hermitian? True\n",
            "Matrix of A in ONB =\n",
            " [[ 2. +0.j  0. +0.j  0. +0.j]\n",
            " [ 0. +0.j -1. +0.j  0. +0.j]\n",
            " [ 0. +0.j  0. +0.j  0.5+0.j]]\n",
            "⟨A⟩ via matrix = (0.9800000000000001+0j)  ; via spectrum = 0.9800000000000002\n"
          ]
        }
      ]
    },
    {
      "cell_type": "markdown",
      "source": [
        "## 5) Change of basis via a unitary (columns are new basis kets)"
      ],
      "metadata": {
        "id": "l6ifnvojduBP"
      },
      "id": "l6ifnvojduBP"
    },
    {
      "cell_type": "code",
      "source": [
        "## 5) Change of basis via a unitary (columns are new basis kets)\n",
        "\n",
        "rng = np.random.default_rng(42)\n",
        "M = rng.normal(size=(3,3)) + 1j*rng.normal(size=(3,3))\n",
        "Q, _ = np.linalg.qr(M)    # Q is unitary; use it as the basis-change matrix\n",
        "U = Q\n",
        "\n",
        "# New basis kets (columns of U)\n",
        "tilde_basis = [U @ e0, U @ e1, U @ e2]\n",
        "I_new = sum(outer(v, v) for v in tilde_basis)\n",
        "print(\"New basis orthonormal & complete?\", np.allclose(I_new, np.eye(3)))\n",
        "\n",
        "# Coordinates of |ψ⟩ in old vs new basis\n",
        "coords_old = np.array([inner(e, psi) for e in ONB])             # ⟨i|ψ⟩\n",
        "coords_new = np.array([inner(v, psi) for v in tilde_basis])     # ⟨i~|ψ⟩\n",
        "\n",
        "# Relationship: coords_new = U† coords_old\n",
        "coords_new_from_U = U.conj().T @ coords_old     # or: dag(U) @ coords_old\n",
        "print(\"Coefficient transform ok?\", np.allclose(coords_new, coords_new_from_U))\n"
      ],
      "metadata": {
        "colab": {
          "base_uri": "https://localhost:8080/"
        },
        "id": "t6Q828Zudrlf",
        "outputId": "421be1da-3733-4b95-d5d2-36214c1d2ee4"
      },
      "id": "t6Q828Zudrlf",
      "execution_count": 8,
      "outputs": [
        {
          "output_type": "stream",
          "name": "stdout",
          "text": [
            "New basis orthonormal & complete? True\n",
            "Coefficient transform ok? True\n"
          ]
        }
      ]
    },
    {
      "cell_type": "markdown",
      "source": [
        "## 6) Bra–ket algebra cheatsheet (discrete, orthonormal basis)\n",
        "- Linearity: ⟨φ| (a|ψ⟩ + b|χ⟩) = a⟨φ|ψ⟩ + b⟨φ|χ⟩ ; (a⟨φ| + b⟨χ|) |ψ⟩ = a*⟨φ|ψ⟩ + b*⟨χ|ψ⟩\n",
        "- Conjugate symmetry: ⟨ψ|φ⟩ = ⟨φ|ψ⟩*\n",
        "- Resolution: ∑_i |i⟩⟨i| = I\n",
        "- Components: |ψ⟩ = ∑_i |i⟩ ⟨i|ψ⟩ ;   A = ∑_{ij} |i⟩⟨i|A|j⟩⟨j|\n",
        "- Projector: P_ψ = |ψ⟩⟨ψ| (idempotent, Hermitian); measurement prob = |⟨ψ|φ⟩|^2\n",
        "- Expectation: ⟨A⟩_ψ = ⟨ψ|A|ψ⟩ ; Variance: ⟨A^2⟩_ψ - ⟨A⟩_ψ^2\n"
      ],
      "metadata": {
        "id": "6Y4r7TmUd_wv"
      },
      "id": "6Y4r7TmUd_wv"
    },
    {
      "cell_type": "markdown",
      "source": [
        "## 7) Continuous vs discrete (heads-up for later)\n",
        "For a continuous basis $\\{|x\\rangle\\}$:\n",
        "- Completeness: $\\displaystyle \\int |x\\rangle\\langle x|\\,\\mathrm dx = I$\n",
        "- Orthogonality: $\\langle x|x'\\rangle=\\delta(x-x')$\n",
        "- Wavefunction: $\\psi(x)=\\langle x|\\psi\\rangle$, and inner product $\\displaystyle \\langle\\phi|\\psi\\rangle=\\int \\phi^\\*(x)\\psi(x)\\,\\mathrm dx$\n",
        "\n",
        "> In code you approximate integrals by sums on a grid (discretisation). Same algebra, with $\\sum \\Delta x \\approx \\int$.\n"
      ],
      "metadata": {
        "id": "ADkXNTCZeLTW"
      },
      "id": "ADkXNTCZeLTW"
    },
    {
      "cell_type": "code",
      "source": [
        "## (7a) Discretising a wavefunction (continuous → grid)\n",
        "# Inner product ⟨φ|ψ⟩ ≈ Σ φ*(x_k) ψ(x_k) Δx\n",
        "\n",
        "import numpy as np\n",
        "\n",
        "# grid\n",
        "x = np.linspace(-8.0, 8.0, 4001)\n",
        "dx = x[1] - x[0]\n",
        "\n",
        "def gauss(x, x0=0.0, sigma=1.0, k=0.0):\n",
        "    norm = (1.0/(np.pi*sigma**2))**0.25\n",
        "    return norm * np.exp(-0.5*((x - x0)/sigma)**2) * np.exp(1j*k*x)\n",
        "\n",
        "# two (normalized) wavefunctions\n",
        "psi_x = gauss(x, x0=-1.0, sigma=1.2, k=0.6)\n",
        "phi_x = gauss(x, x0=+0.5, sigma=0.9, k=-0.2)\n",
        "\n",
        "# numeric inner product (Riemann sum)\n",
        "inner_num = np.vdot(phi_x, psi_x) * dx          # np.vdot does conjugate on first arg\n",
        "print(\"⟨φ|ψ⟩ (numeric) =\", inner_num)\n",
        "print(\"|⟨φ|ψ⟩| ≤ 1 ?\", abs(inner_num) <= 1 + 1e-12)\n",
        "\n",
        "# check normalization on grid\n",
        "norm_psi = np.vdot(psi_x, psi_x) * dx\n",
        "norm_phi = np.vdot(phi_x, phi_x) * dx\n",
        "print(\"‖ψ‖² ≈\", norm_psi.real, \"  ‖φ‖² ≈\", norm_phi.real)\n"
      ],
      "metadata": {
        "colab": {
          "base_uri": "https://localhost:8080/"
        },
        "id": "Y_0V92qWfRUx",
        "outputId": "b2cc307c-7dbe-4d2d-f2c7-48718c77e7f4"
      },
      "id": "Y_0V92qWfRUx",
      "execution_count": 10,
      "outputs": [
        {
          "output_type": "stream",
          "name": "stdout",
          "text": [
            "⟨φ|ψ⟩ (numeric) = (0.5031781057061367-0.016107197681433157j)\n",
            "|⟨φ|ψ⟩| ≤ 1 ? True\n",
            "‖ψ‖² ≈ 0.9999999999998895   ‖φ‖² ≈ 0.9999999999998894\n"
          ]
        }
      ]
    },
    {
      "cell_type": "markdown",
      "metadata": {
        "id": "eur2TUxRZFQQ"
      },
      "source": [
        "## 8) Try it yourself\n",
        "1) **Matrix elements:** For a random Hermitian $H$, verify $H=\\sum_{ij}|i\\rangle\\langle i|H|j\\rangle\\langle j|$ numerically.  \n",
        "2) **Two-outcome measurement:** Given normalized $|\\psi\\rangle$ and a normalized $|\\phi\\rangle$, build projectors $P_\\phi$ and $I-P_\\phi$.  \n",
        "   Simulate one Born measurement (random number $r\\in[0,1)$): collapse to $|\\phi\\rangle$ if $r<|\\langle\\phi|\\psi\\rangle|^2$, else to the orthogonal subspace.  \n",
        "3) **Change of basis:** Create a unitary $U$ (QR) and verify that $\\sum_i |i^\\sim\\rangle\\langle i^\\sim|=I$ where $|i^\\sim\\rangle=U|i\\rangle$.  \n",
        "4) **Expectation vs sampling:** For diagonal $A=\\mathrm{diag}(\\lambda_0,\\lambda_1,\\lambda_2)$, draw $10^4$ outcomes by sampling $i$ with probabilities $|\\langle i|\\psi\\rangle|^2$ and compare the empirical mean with $\\langle A\\rangle_\\psi$.\n"
      ],
      "id": "eur2TUxRZFQQ"
    },
    {
      "cell_type": "markdown",
      "metadata": {
        "id": "iiM6E1evZFQQ"
      },
      "source": [
        "## 9) Reflection\n",
        "- How does viewing **bras** as linear functionals (dual vectors) make identities like $\\sum_i |i\\rangle\\langle i|=I$ feel “obvious”?  \n",
        "- Why is the **outer product** the right tool for building projectors and changing bases?  \n",
        "- In what ways do these identities simplify algorithm derivations (e.g., inserting $I$ to prove circuit identities)?\n"
      ],
      "id": "iiM6E1evZFQQ"
    },
    {
      "cell_type": "markdown",
      "source": [
        "Optional figures you can add\n",
        "\n",
        "Dual space sketch: column vector (ket) vs conjugate row (bra) acting on it to produce a scalar.\n",
        "\n",
        "Resolution of identity: tiles showing $|i\\rangle\\langle i|$ blocks summing to $I$.\n",
        "\n",
        "Projector geometry: vector $|\\phi\\rangle$ decomposed into component along $|\\psi\\rangle$ plus orthogonal remainder."
      ],
      "metadata": {
        "id": "LURbkFvEeYAo"
      },
      "id": "LURbkFvEeYAo"
    },
    {
      "cell_type": "markdown",
      "metadata": {
        "id": "m-NOGHUoZFQR"
      },
      "source": [
        "---\n",
        "### Links\n",
        "- **Open in Colab (from GitHub):** replace `YOUR_GITHUB_USERNAME/qucode-21days`\n",
        "  - `https://colab.research.google.com/github/YOUR_GITHUB_USERNAME/qucode-21days/blob/main/Day06_Entanglement_Basics.ipynb.ipynb`\n",
        "- **Report an issue / suggest a fix:** link to your repo issues page\n"
      ],
      "id": "m-NOGHUoZFQR"
    }
  ],
  "metadata": {
    "colab": {
      "provenance": [],
      "include_colab_link": true
    },
    "kernelspec": {
      "display_name": "Python 3",
      "language": "python",
      "name": "python3"
    },
    "language_info": {
      "name": "python",
      "version": "3.x"
    }
  },
  "nbformat": 4,
  "nbformat_minor": 5
}