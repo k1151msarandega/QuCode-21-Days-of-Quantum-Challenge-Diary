{
  "cells": [
    {
      "cell_type": "markdown",
      "metadata": {
        "id": "view-in-github",
        "colab_type": "text"
      },
      "source": [
        "<a href=\"https://colab.research.google.com/github/k1151msarandega/QuCode-21-Days-of-Quantum-Challenge-Diary/blob/main/Day05_Linear_Algebra_for_Quantum_Computing.ipynb\" target=\"_parent\"><img src=\"https://colab.research.google.com/assets/colab-badge.svg\" alt=\"Open In Colab\"/></a>"
      ]
    },
    {
      "cell_type": "markdown",
      "metadata": {
        "id": "9-gpa9-DTWAA"
      },
      "source": [
        "# Day 05 — Linear Algebra for Quantum Computing\n",
        "\n",
        "> _QuCode 21 Days of Quantum Challenge — Learning notebook_\n",
        ">\n",
        "> **Date:** 2025-09-05  \n",
        "> **Author:** Kudzai Musarandega  \n",
        "> **Tags:** quantum, learning, challenge, day-05\n",
        ">\n",
        "> **Learning objectives**\n",
        "> - Build composite state spaces via **tensor products**; reason about dimensions and bases.\n",
        "> - Compute **inner** and **outer** products; use orthonormal bases and Kronecker deltas.\n",
        "> - Recognise **product** vs **entangled** states (Schmidt rank viewpoint).\n",
        "> - Work with **operators** on subsystems: $A\\otimes I$, $I\\otimes B$, and multi-qubit gates.\n",
        "> - Verify and use **unitary** matrices: $U^\\dagger U=I$, eigenvalues on the unit circle, inner-product preservation.\n",
        ">\n",
        ">\n",
        "> **Key takeaways (summary-first)**\n",
        "> - Composite Hilbert space: $\\mathcal H=\\mathcal H_1\\otimes\\mathcal H_2$ with $\\dim\\mathcal H=\\dim\\mathcal H_1\\cdot\\dim\\mathcal H_2$; basis $|u_i\\rangle\\otimes|v_j\\rangle$.\n",
        "> - Inner product axioms (complex): linear in the **right** slot, conjugate-symmetric, positive-definite. For product > kets,  \n",
        "  $$\\langle a\\!\\otimes\\!b\\,|\\,c\\!\\otimes\\!d\\rangle=\\langle a|c\\rangle\\,\\langle b|d\\rangle.$$\n",
        "> - Outer product $|\\psi\\rangle\\langle\\phi|$ is a rank-1 operator (projector if $\\psi=\\phi$ and $\\|\\psi\\|=1$).\n",
        "> - **Entanglement:** a 2-qubit state is entangled iff its coefficient matrix has rank $>1$ (non-factorisable).\n",
        "> - **Unitary** $U$: $U^\\dagger U=I$; preserves norms/angles/probabilities; eigenvalues $e^{i\\theta}$ (unit modulus).\n",
        "\n"
      ],
      "id": "9-gpa9-DTWAA"
    },
    {
      "cell_type": "markdown",
      "metadata": {
        "id": "pwlCvngYTWAI"
      },
      "source": [
        "## Resources\n",
        "- **Official/Assigned:**\n",
        "    - [Tensor product state spaces - Professor M does Science](https://youtu.be/kz3206S2B6Q?si=gAuNKNnC51Ux-VZc)\n",
        "    - [What is an inner product? | Maths of Quantum Mechanics - Quantum Sense](https://youtu.be/3N2vN76E-QA?si=1F1cJ1ZEjTUN7ynQ)\n",
        "    - [What are unitary operators? | Maths of Quantum Mechanics - Quantum Sense](https://youtu.be/dD-oYfhSKhg?si=bqtdARfOtXv9X6di)\n",
        "- **Extra reading:**\n",
        "    - [Unitary Transforms (Quantum Mechanics and Computation) - Wobbly Bit](https://youtu.be/PUBE_x2ikhM?si=M7tWJbnvuINdduD4)\n",
        "    - [Unitary Matrix | Quantum Computing - RAFEEK KHAN](https://youtu.be/TUWOnNf2NGg?si=z3TeDl4SJFJFhit1)\n",
        "- **Original notes:**\n"
      ],
      "id": "pwlCvngYTWAI"
    },
    {
      "cell_type": "code",
      "metadata": {
        "id": "P-nGc3A5TWAJ"
      },
      "execution_count": null,
      "outputs": [],
      "source": [
        "# %% [markdown]\n",
        "# ### Environment setup (Colab)\n",
        "# If you are running on Colab for the first time today, uncomment to install.\n",
        "# This cell intentionally avoids heavy installs by default.\n",
        "#\n",
        "# !pip -q install qiskit pennylane matplotlib numpy\n",
        "\n",
        "import sys, platform, math, json, numpy as np\n",
        "\n",
        "print(\"Python:\", sys.version.split()[0])\n",
        "print(\"Platform:\", platform.platform())\n",
        "np.random.seed(42)\n"
      ],
      "id": "P-nGc3A5TWAJ"
    },
    {
      "cell_type": "markdown",
      "metadata": {
        "id": "8QUOBkZJTWAM"
      },
      "source": [
        "## 1. Concepts in brief\n",
        "- Tensor product glues smaller vector spaces into a bigger one: bases multiply, dimensions multiply.\n",
        "- Inner product generalises the dot product: sesquilinear (R-linear / L-antilinear), conjugate symmetry, positive-definite.\n",
        "- Outer product is a map \"ket × bra → operator\".\n",
        "- Operators on subsystems act as A⊗I or I⊗B on the full space.\n",
        "- Unitaries are \"generalised rotations\": preserve inner products, hence probabilities."
      ],
      "id": "8QUOBkZJTWAM"
    },
    {
      "cell_type": "markdown",
      "source": [
        "##Worked Example"
      ],
      "metadata": {
        "id": "bg6umUvkZiR5"
      },
      "id": "bg6umUvkZiR5"
    },
    {
      "cell_type": "code",
      "metadata": {
        "colab": {
          "base_uri": "https://localhost:8080/"
        },
        "id": "oXU6U_nMTWAN",
        "outputId": "536aaefc-07f7-4f21-a166-2c0071804d4c"
      },
      "execution_count": 1,
      "outputs": [
        {
          "output_type": "execute_result",
          "data": {
            "text/plain": [
              "(array([[0.+0.j, 1.+0.j],\n",
              "        [1.+0.j, 0.+0.j]]),\n",
              " array([[ 0.+0.j, -0.-1.j],\n",
              "        [ 0.+1.j,  0.+0.j]]),\n",
              " array([[ 1.+0.j,  0.+0.j],\n",
              "        [ 0.+0.j, -1.+0.j]]),\n",
              " array([[ 0.70710678+0.j,  0.70710678+0.j],\n",
              "        [ 0.70710678+0.j, -0.70710678+0.j]]))"
            ]
          },
          "metadata": {},
          "execution_count": 1
        }
      ],
      "source": [
        "# ## 2. Worked examples (runnable)\n",
        "# Helper utilities for bra-ket algebra and Kronecker products.\n",
        "\n",
        "import numpy as np\n",
        "\n",
        "def dagger(A): return A.conj().T\n",
        "def inner(phi, psi):  # ⟨phi|psi⟩\n",
        "    return np.vdot(phi, psi)  # conj(phi)·psi\n",
        "def outer(psi, phi):  # |psi⟩⟨phi|\n",
        "    return np.outer(psi, phi.conj())\n",
        "def kron(*args):\n",
        "    M = np.array([1.0], dtype=complex)\n",
        "    for A in args:\n",
        "        M = np.kron(M, A)\n",
        "    return M\n",
        "def normalise(psi):\n",
        "    n = np.linalg.norm(psi)\n",
        "    return psi/n if n>0 else psi\n",
        "\n",
        "def is_unitary(U, tol=1e-10):\n",
        "    I = np.eye(U.shape[0], dtype=complex)\n",
        "    return np.allclose(dagger(U) @ U, I, atol=tol) and np.allclose(U @ dagger(U), I, atol=tol)\n",
        "\n",
        "# One-qubit basis\n",
        "ket0 = np.array([1,0], dtype=complex)\n",
        "ket1 = np.array([0,1], dtype=complex)\n",
        "\n",
        "# Pauli + Hadamard\n",
        "X = np.array([[0,1],[1,0]], dtype=complex)\n",
        "Y = np.array([[0,-1j],[1j,0]], dtype=complex)\n",
        "Z = np.array([[1,0],[0,-1]], dtype=complex)\n",
        "H = (1/np.sqrt(2))*np.array([[1,1],[1,-1]], dtype=complex)\n",
        "\n",
        "X, Y, Z, H\n"
      ],
      "id": "oXU6U_nMTWAN"
    },
    {
      "cell_type": "code",
      "source": [
        "# Example A — Tensor product basics: bases multiply, coefficients factor for product states\n",
        "# Build |psi⟩⊗|phi⟩ and verify coefficients multiply.\n",
        "\n",
        "# Single-qubit states\n",
        "psi = normalise(2*ket0 + 1j*ket1)   # arbitrary\n",
        "phi = normalise(ket0 - ket1)        # arbitrary\n",
        "\n",
        "psi_phi = kron(psi, phi)            # |psi⟩⊗|phi⟩ in 4D\n",
        "print(\"dim(H1)·dim(H2) =\", 2*2, \" ; dim(H1⊗H2) =\", psi_phi.size)\n",
        "\n",
        "# Coefficients multiply:\n",
        "# |psi⟩ = [a0, a1], |phi⟩ = [b0, b1] → |psi⟩⊗|phi⟩ = [a0b0, a0b1, a1b0, a1b1]\n",
        "a0,a1 = psi\n",
        "b0,b1 = phi\n",
        "expected = np.array([a0*b0, a0*b1, a1*b0, a1*b1])\n",
        "print(\"Factor check:\", np.allclose(psi_phi, expected))\n",
        "psi_phi\n"
      ],
      "metadata": {
        "colab": {
          "base_uri": "https://localhost:8080/"
        },
        "id": "E2pI-SlHZvko",
        "outputId": "d84d8350-7633-4b78-dd1f-848ed8b0c175"
      },
      "id": "E2pI-SlHZvko",
      "execution_count": 2,
      "outputs": [
        {
          "output_type": "stream",
          "name": "stdout",
          "text": [
            "dim(H1)·dim(H2) = 4  ; dim(H1⊗H2) = 4\n",
            "Factor check: True\n"
          ]
        },
        {
          "output_type": "execute_result",
          "data": {
            "text/plain": [
              "array([ 0.63245553+0.j        , -0.63245553+0.j        ,\n",
              "        0.        +0.31622777j, -0.        -0.31622777j])"
            ]
          },
          "metadata": {},
          "execution_count": 2
        }
      ]
    },
    {
      "cell_type": "code",
      "source": [
        "# Example B — Entanglement test via Schmidt rank (matrix rank of coefficients)\n",
        "# Product states have rank 1; Bell states have rank 2.\n",
        "\n",
        "# Build Bell state |Φ−⟩ = (|00⟩ − |11⟩)/√2\n",
        "phi_minus = (kron(ket0,ket0) - kron(ket1,ket1))/np.sqrt(2)\n",
        "\n",
        "# Reshape 4-vector to 2×2 \"coefficient matrix\" C_{ij}\n",
        "C = phi_minus.reshape(2,2)\n",
        "rank = np.linalg.matrix_rank(C)\n",
        "print(\"Coefficient matrix:\\n\", C)\n",
        "print(\"Schmidt rank =\", rank, \"→\", \"ENTANGLED\" if rank>1 else \"product\")\n"
      ],
      "metadata": {
        "colab": {
          "base_uri": "https://localhost:8080/"
        },
        "id": "nmzqS7nZZyVI",
        "outputId": "5775f463-6846-4194-cca8-bc1a71f68aca"
      },
      "id": "nmzqS7nZZyVI",
      "execution_count": 3,
      "outputs": [
        {
          "output_type": "stream",
          "name": "stdout",
          "text": [
            "Coefficient matrix:\n",
            " [[ 0.70710678+0.j  0.        +0.j]\n",
            " [ 0.        +0.j -0.70710678+0.j]]\n",
            "Schmidt rank = 2 → ENTANGLED\n"
          ]
        }
      ]
    },
    {
      "cell_type": "code",
      "source": [
        "# Example C — Inner product axioms + product rule\n",
        "# Verify conjugate symmetry, right linearity, and ⟨a⊗b|c⊗d⟩ = ⟨a|c⟩⟨b|d⟩.\n",
        "\n",
        "a = normalise(ket0 + 1j*ket1)\n",
        "b = normalise(ket0 - 1j*ket1)\n",
        "c = normalise(ket0 + ket1)\n",
        "d = normalise(ket0 - ket1)\n",
        "\n",
        "lhs = inner(kron(a,b), kron(c,d))\n",
        "rhs = inner(a,c)*inner(b,d)\n",
        "\n",
        "cs1 = inner(a,b)\n",
        "cs2 = inner(b,a).conjugate()\n",
        "\n",
        "alpha = 2-3j\n",
        "lin_right = inner(a, alpha*b) - alpha*inner(a,b)\n",
        "\n",
        "print(\"Product rule holds:\", np.allclose(lhs, rhs))\n",
        "print(\"Conjugate symmetry:\", np.allclose(cs1, cs2))\n",
        "print(\"Right linearity residual ~ 0:\", abs(lin_right))\n"
      ],
      "metadata": {
        "colab": {
          "base_uri": "https://localhost:8080/"
        },
        "id": "Sg7PgANZZ1lx",
        "outputId": "74b9cc21-d66a-4e73-ccf7-0d1d0eb36105"
      },
      "id": "Sg7PgANZZ1lx",
      "execution_count": 4,
      "outputs": [
        {
          "output_type": "stream",
          "name": "stdout",
          "text": [
            "Product rule holds: True\n",
            "Conjugate symmetry: True\n",
            "Right linearity residual ~ 0: 0.0\n"
          ]
        }
      ]
    },
    {
      "cell_type": "code",
      "source": [
        "# Example D — Outer products: projectors and density matrices\n",
        "psi = normalise(ket0 + ket1)      # |+⟩\n",
        "P = outer(psi, psi)               # projector |ψ⟩⟨ψ|\n",
        "print(\"Projector idempotent? ||P^2 - P|| =\", np.linalg.norm(P@P - P))\n",
        "\n",
        "# Project arbitrary vector onto span{|ψ⟩}\n",
        "v = normalise(2*ket0 - 1j*ket1)\n",
        "proj_v = P @ v\n",
        "print(\"Projection check: v' ∥ ψ:\", np.allclose(np.cross(proj_v, psi), [0,0,0]))\n",
        "P\n"
      ],
      "metadata": {
        "colab": {
          "base_uri": "https://localhost:8080/"
        },
        "id": "4Q8b-8vOZ5Kw",
        "outputId": "5e047880-e49b-4f0f-8730-e6e31a458f55"
      },
      "id": "4Q8b-8vOZ5Kw",
      "execution_count": 5,
      "outputs": [
        {
          "output_type": "stream",
          "name": "stdout",
          "text": [
            "Projector idempotent? ||P^2 - P|| = 2.220446049250313e-16\n",
            "Projection check: v' ∥ ψ: True\n"
          ]
        },
        {
          "output_type": "stream",
          "name": "stderr",
          "text": [
            "/tmp/ipython-input-4055632548.py:9: DeprecationWarning: Arrays of 2-dimensional vectors are deprecated. Use arrays of 3-dimensional vectors instead. (deprecated in NumPy 2.0)\n",
            "  print(\"Projection check: v' ∥ ψ:\", np.allclose(np.cross(proj_v, psi), [0,0,0]))\n"
          ]
        },
        {
          "output_type": "execute_result",
          "data": {
            "text/plain": [
              "array([[0.5+0.j, 0.5+0.j],\n",
              "       [0.5+0.j, 0.5+0.j]])"
            ]
          },
          "metadata": {},
          "execution_count": 5
        }
      ]
    },
    {
      "cell_type": "code",
      "source": [
        "# Example E — Operators on subsystems: A⊗I and I⊗B; CNOT; preservation of inner product\n",
        "I2 = np.eye(2, dtype=complex)\n",
        "\n",
        "# Apply X on the first qubit, Z on the second, to |10⟩\n",
        "state = kron(ket1, ket0)\n",
        "new_state = kron(X, I2) @ state         # X on qubit 0\n",
        "new_state = kron(I2, Z) @ new_state     # then Z on qubit 1\n",
        "print(\"|10⟩ →\", new_state)\n",
        "\n",
        "# Build CNOT (control = first qubit, target = second)\n",
        "CNOT = np.array([\n",
        "    [1,0,0,0],\n",
        "    [0,1,0,0],\n",
        "    [0,0,0,1],\n",
        "    [0,0,1,0]\n",
        "], dtype=complex)\n",
        "print(\"CNOT unitary?\", is_unitary(CNOT))\n",
        "\n",
        "# Create Bell state via (H⊗I) then CNOT\n",
        "bell = CNOT @ (kron(H, I2) @ kron(ket0, ket0))\n",
        "print(\"Bell norm:\", np.linalg.norm(bell))\n",
        "\n",
        "# Inner product preservation by a unitary\n",
        "v1 = normalise(np.random.randn(4) + 1j*np.random.randn(4))\n",
        "v2 = normalise(np.random.randn(4) + 1j*np.random.randn(4))\n",
        "lhs = inner(CNOT@v1, CNOT@v2)\n",
        "rhs = inner(v1, v2)\n",
        "print(\"⟨Uv1|Uv2⟩ == ⟨v1|v2⟩ ?\", np.allclose(lhs, rhs))\n"
      ],
      "metadata": {
        "colab": {
          "base_uri": "https://localhost:8080/"
        },
        "id": "KfA4RGmUZ-9X",
        "outputId": "57ff4051-750f-4b6a-b19a-d28029402417"
      },
      "id": "KfA4RGmUZ-9X",
      "execution_count": 6,
      "outputs": [
        {
          "output_type": "stream",
          "name": "stdout",
          "text": [
            "|10⟩ → [1.+0.j 0.+0.j 0.+0.j 0.+0.j]\n",
            "CNOT unitary? True\n",
            "Bell norm: 0.9999999999999999\n",
            "⟨Uv1|Uv2⟩ == ⟨v1|v2⟩ ? True\n"
          ]
        }
      ]
    },
    {
      "cell_type": "code",
      "source": [
        "# Example F — Unitary checks: U†U=I, eigenvalues on the unit circle\n",
        "for name, U in [(\"X\",X), (\"Y\",Y), (\"Z\",Z), (\"H\",H), (\"CNOT\",CNOT)]:\n",
        "    evals = np.linalg.eigvals(U)\n",
        "    mags = np.abs(evals)\n",
        "    print(f\"{name:5s} unitary? {is_unitary(U)} ; eigenvalue magnitudes: {np.round(mags,6)}\")\n"
      ],
      "metadata": {
        "colab": {
          "base_uri": "https://localhost:8080/"
        },
        "id": "a3_IegK6aBrX",
        "outputId": "3922049a-a2b9-4655-e2fe-434ed433b4bb"
      },
      "id": "a3_IegK6aBrX",
      "execution_count": 7,
      "outputs": [
        {
          "output_type": "stream",
          "name": "stdout",
          "text": [
            "X     unitary? True ; eigenvalue magnitudes: [1. 1.]\n",
            "Y     unitary? True ; eigenvalue magnitudes: [1. 1.]\n",
            "Z     unitary? True ; eigenvalue magnitudes: [1. 1.]\n",
            "H     unitary? True ; eigenvalue magnitudes: [1. 1.]\n",
            "CNOT  unitary? True ; eigenvalue magnitudes: [1. 1. 1. 1.]\n"
          ]
        }
      ]
    },
    {
      "cell_type": "markdown",
      "source": [
        "## 3. Key equations and statements\n",
        "\n",
        "- **Tensor product linearity & distributivity**\n",
        "  $$\n",
        "  (\\alpha|\\psi\\rangle)\\otimes|\\phi\\rangle = \\alpha(|\\psi\\rangle\\otimes|\\phi\\rangle),\\quad\n",
        "  (|\\psi\\rangle+|\\psi'\\rangle)\\otimes|\\phi\\rangle=|\\psi\\rangle\\otimes|\\phi\\rangle+|\\psi'\\rangle\\otimes|\\phi\\rangle\n",
        "  $$\n",
        "- **Inner product axioms (complex)**\n",
        "  1) Linearity in right slot: $\\langle \\chi|(\\alpha|\\psi\\rangle+\\beta|\\phi\\rangle)=\\alpha\\langle\\chi|\\psi\\rangle+\\beta\\langle\\chi|\\phi\\rangle$  \n",
        "  2) Conjugate symmetry: $\\langle \\psi|\\phi\\rangle=\\langle \\phi|\\psi\\rangle^\\*$  \n",
        "  3) Positive-definite: $\\langle \\psi|\\psi\\rangle\\ge 0$, with equality iff $|\\psi\\rangle=0$.\n",
        "- **Product rule**  \n",
        "  $\\langle a\\!\\otimes\\!b\\,|\\,c\\!\\otimes\\!d\\rangle=\\langle a|c\\rangle\\,\\langle b|d\\rangle$.\n",
        "- **Outer product / projector**  \n",
        "  $P_\\psi=|\\psi\\rangle\\langle\\psi|,\\quad P_\\psi^2=P_\\psi,\\quad P_\\psi^\\dagger=P_\\psi.$\n",
        "- **Operator tensoring**  \n",
        "  $(A\\otimes B)(|\\psi\\rangle\\otimes|\\phi\\rangle)=(A|\\psi\\rangle)\\otimes(B|\\phi\\rangle).$\n",
        "- **Unitary**  \n",
        "  $U^\\dagger U=I\\;\\Rightarrow\\;$ preserves inner products and norms; eigenvalues $e^{i\\theta}$.\n"
      ],
      "metadata": {
        "id": "Hc6ZCEuNaFta"
      },
      "id": "Hc6ZCEuNaFta"
    },
    {
      "cell_type": "markdown",
      "source": [
        "## 4. Product vs entangled (intuition)\n",
        "- **Product state** $|\\psi\\rangle\\otimes|\\phi\\rangle$: fully described by smaller states; reduced subsystems are **pure**.\n",
        "- **Entangled state** (e.g. Bell): cannot be factorised; reduced subsystems are **mixed** ($\\rho_A=\\tfrac12 I$).  \n",
        "  _Optional exercise below shows this via partial trace._\n"
      ],
      "metadata": {
        "id": "7HG-fE8zaQD-"
      },
      "id": "7HG-fE8zaQD-"
    },
    {
      "cell_type": "code",
      "source": [
        "# OPTIONAL — Partial trace to show reduced mixedness for a Bell state\n",
        "def partial_trace_rhoAB_to_A(rhoAB):\n",
        "    # 2 qubits (2x2 each). Trace out B.\n",
        "    rhoA = np.zeros((2,2), dtype=complex)\n",
        "    for i in range(2):\n",
        "        for j in range(2):\n",
        "            # sum over B indices k\n",
        "            for k in range(2):\n",
        "                rhoA[i,j] += rhoAB[2*i+k, 2*j+k]\n",
        "    return rhoA\n",
        "\n",
        "rho_bell = outer(bell, bell)\n",
        "rhoA = partial_trace_rhoAB_to_A(rho_bell)\n",
        "print(\"ρ_A for Bell =\\n\", rhoA, \"\\nIs maximally mixed (≈ I/2)?\",\n",
        "      np.allclose(rhoA, 0.5*np.eye(2)))\n"
      ],
      "metadata": {
        "colab": {
          "base_uri": "https://localhost:8080/"
        },
        "id": "kXhiTZp8aTpv",
        "outputId": "18d68658-bc23-432e-95ff-7426a2b98a25"
      },
      "id": "kXhiTZp8aTpv",
      "execution_count": 8,
      "outputs": [
        {
          "output_type": "stream",
          "name": "stdout",
          "text": [
            "ρ_A for Bell =\n",
            " [[0.5+0.j 0. +0.j]\n",
            " [0. +0.j 0.5+0.j]] \n",
            "Is maximally mixed (≈ I/2)? True\n"
          ]
        }
      ]
    },
    {
      "cell_type": "markdown",
      "metadata": {
        "id": "U6kfDw0ETWAP"
      },
      "source": [
        "## 5. Try it yourself\n",
        "1) **Schmidt test:** Generate random 2-qubit states; reshape to 2×2 and check rank. Which are entangled?  \n",
        "2) **Operator on one qubit:** Build $U = Z\\otimes X$; apply to each computational basis state; verify mapping.  \n",
        "3) **Projector algebra:** Show that $P_\\psi P_\\phi = |\\psi\\rangle\\langle\\psi|\\phi\\rangle\\langle\\phi|$ and interpret the scalar.  \n",
        "4) **Unitary eigenvalues:** Compute eigenvalues of a random $2\\times2$ unitary (e.g., from QR decomposition) and confirm $|λ|=1$.  \n",
        "5) **Inner product factorisation:** Prove (and test numerically) that $\\langle a\\!\\otimes\\!b\\,|\\,c\\!\\otimes\\!d\\rangle$ factorises.\n"
      ],
      "id": "U6kfDw0ETWAP"
    },
    {
      "cell_type": "markdown",
      "metadata": {
        "id": "es_dndSUTWAQ"
      },
      "source": [
        "## 6. Reflection\n",
        "- In your own words, why does **entanglement** require the tensor product (and not just classical correlation)?  \n",
        "- How do inner-product and unitarity guarantees translate into “probabilities sum to 1” during a computation?  \n",
        "- Where do you expect $A\\otimes I$ and $I\\otimes B$ patterns to show up in algorithms you care about (e.g., QFT, oracles, variational layers)?\n"
      ],
      "id": "es_dndSUTWAQ"
    },
    {
      "cell_type": "markdown",
      "source": [
        "### Optional images to add\n",
        "1) **Tensor-basis grid:** a 2×2 grid showing $|00\\rangle,|01\\rangle,|10\\rangle,|11\\rangle$ as $|u_i\\rangle\\otimes|v_j\\rangle$.  \n",
        "   _Caption:_ “Basis of $\\mathcal H_1\\otimes\\mathcal H_2$ is the product of bases.”  \n",
        "2) **Coefficient matrix heatmaps:** product state (rank-1 outer product) vs Bell state (rank-2) as $2\\times2$ heatmaps.  \n",
        "   _Caption:_ “Schmidt rank distinguishes product vs entangled.”  \n",
        "3) **“Columns orthonormal” diagram:** unitary matrix with orthonormal columns (arrows on a circle).  \n",
        "   _Caption:_ “Unitary columns are orthonormal; eigenvalues on the unit circle.”"
      ],
      "metadata": {
        "id": "UWhKDuueagHv"
      },
      "id": "UWhKDuueagHv"
    },
    {
      "cell_type": "markdown",
      "metadata": {
        "id": "uSRAfrqATWAQ"
      },
      "source": [
        "---\n",
        "### Links\n",
        "- **Open in Colab (from GitHub):** replace `YOUR_GITHUB_USERNAME/qucode-21days`\n",
        "  - `https://colab.research.google.com/github/YOUR_GITHUB_USERNAME/qucode-21days/blob/main/Day05_Multi‑Qubit_Systems_and_Tensor_Products.ipynb.ipynb`\n",
        "- **Report an issue / suggest a fix:** link to your repo issues page\n"
      ],
      "id": "uSRAfrqATWAQ"
    }
  ],
  "metadata": {
    "colab": {
      "provenance": [],
      "include_colab_link": true
    },
    "kernelspec": {
      "display_name": "Python 3",
      "language": "python",
      "name": "python3"
    },
    "language_info": {
      "name": "python",
      "version": "3.x"
    }
  },
  "nbformat": 4,
  "nbformat_minor": 5
}