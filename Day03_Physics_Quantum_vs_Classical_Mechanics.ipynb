{
  "cells": [
    {
      "cell_type": "markdown",
      "metadata": {
        "id": "view-in-github",
        "colab_type": "text"
      },
      "source": [
        "<a href=\"https://colab.research.google.com/github/k1151msarandega/QuCode-21-Days-of-Quantum-Challenge-Diary/blob/main/Day03_Physics_Quantum_vs_Classical_Mechanics.ipynb\" target=\"_parent\"><img src=\"https://colab.research.google.com/assets/colab-badge.svg\" alt=\"Open In Colab\"/></a>"
      ]
    },
    {
      "cell_type": "markdown",
      "metadata": {
        "id": "rJRtxGV8jBjh"
      },
      "source": [
        "# Day 03 — Physics: Quantum vs. Classical Mechanics\n",
        "\n",
        "> _QuCode 21 Days of Quantum Challenge — Learning notebook_\n",
        ">\n",
        "> **Date:** 2025-09-03  \n",
        "> **Author:** Kudzai Musarandega  \n",
        "> **Tags:** quantum, learning, challenge, day-03\n",
        ">\n",
        "> **Learning objectives**\n",
        "> - Explain superposition in plain language, with one clean equation and one visual.\n",
        "> - Contrast a **quantum superposition** with a **classical mixture**.\n",
        "> - Describe wave-particle duality and the double-slit result for single electrons.\n",
        "> - State the role of the Schrödinger equation and the Born rule.\n",
        "> - Use de Broglie’s relation to estimate when wave effects are observable.\n",
        ">\n",
        "> **Key takeaways (summary-first)**\n",
        "> - **Superposition:** a quantum state can be a linear combination of basis states. For a qubit, $$|\\psi\\rangle=\\alpha|0\\rangle+\\beta|1\\rangle,\\quad |\\alpha|^2+|\\beta|^2=1.$$\n",
        "> - **Not the same as ignorance:** a mixed “either 0 or 1” state has no phase coherence; a superposition does. Coherence shows up as **interference**.\n",
        "> - **Wave-particle duality:** particles propagate like waves, but detection events are localised. Patterns come from probabilities, not from little ripples of stuff.\n",
        "> - **de Broglie wavelength:** $\\lambda=h/p$. Bigger mass or momentum, smaller $\\lambda$ → classical behaviour.\n",
        "> - **Schrödinger equation:** evolves the wavefunction $\\psi$; the **Born rule** turns $|\\psi|^2$ into detection probabilities.\n",
        "> - **Cat box lesson:** macroscopic superpositions are rapidly destroyed by **decoherence** (entanglement with the environment), which is why we do not see “alive+dead” cats.\n"
      ],
      "id": "rJRtxGV8jBjh"
    },
    {
      "cell_type": "markdown",
      "metadata": {
        "id": "-RYf1k3OjBjl"
      },
      "source": [
        "## Resources\n",
        "- **Official/Assigned:**\n",
        "    - [Ted-Ed: Schrödinger's cat - A thought experiment in quantum mechanics - Chad Orzel](https://www.youtube.com/watch?v=UjaAxUO6-Uw)\n",
        "    - [Perimeter Institute for Theoretical Physics: Superposition Explained (Schrödinger's Cat)](https://www.youtube.com/watch?v=IHDMJqJHCQg)\n",
        "    - [SandboxAQ: Quantum Explained – Superposition](https://www.youtube.com/watch?v=kmCZMLfo_ak)\n",
        "    - [Perimeter Institute for Theoretical Physics: Wave Particle Duality Explained](https://www.youtube.com/watch?v=DfQH3o6dKss)\n",
        "    - [The Analyst: Every QUANTUM Physics Concept Explained in 10 Minutes](https://www.youtube.com/watch?v=M7Ry9W-T3fs)\n",
        "    - [Professor Dave Explains: Quantum Mechanics and the Schrödinger Equation](https://www.youtube.com/watch?v=O6g-7rUgrdg)\n",
        "- **Extra reading:** Add one or two carefully chosen extras\n",
        "- **Original notes:** If you derived or proved something, link or write it here\n"
      ],
      "id": "-RYf1k3OjBjl"
    },
    {
      "cell_type": "code",
      "metadata": {
        "id": "qZapjFcJjBjm"
      },
      "execution_count": null,
      "outputs": [],
      "source": [
        "# %% [markdown]\n",
        "# ### Environment setup (Colab)\n",
        "# If you are running on Colab for the first time today, uncomment to install.\n",
        "# This cell intentionally avoids heavy installs by default.\n",
        "#\n",
        "# !pip -q install qiskit pennylane matplotlib numpy\n",
        "\n",
        "import sys, platform, math, json, numpy as np\n",
        "\n",
        "print(\"Python:\", sys.version.split()[0])\n",
        "print(\"Platform:\", platform.platform())\n",
        "np.random.seed(42)\n"
      ],
      "id": "qZapjFcJjBjm"
    },
    {
      "cell_type": "markdown",
      "metadata": {
        "id": "3tLNiZZfjBjn"
      },
      "source": [
        "## 1. Concepts in brief\n",
        "- **Quantum superposition (music analogy):** like a tone made from many harmonics, a quantum state combines basis “notes”. The combination is complex-valued, so **relative phase** matters.\n",
        "- **Interference:** when two probability amplitudes add, their phases can reinforce or cancel. This explains the double-slit stripes from single electrons.\n",
        "- **Superposition vs mixture**\n",
        "  - Superposition (pure state): $|\\psi\\rangle=\\alpha|L\\rangle+\\beta|R\\rangle$ has off-diagonal coherence.  \n",
        "  - Mixture (classical uncertainty): $\\rho=p|L\\rangle\\!\\langle L|+(1-p)|R\\rangle\\!\\langle R|$ has no coherence.  \n",
        "  Only the superposition yields interference.\n",
        "- **Measurement and decoherence:** observation is any irreversible entangling interaction with the environment. Decoherence kills phase relations extremely fast for large systems.\n"
      ],
      "id": "3tLNiZZfjBjn"
    },
    {
      "cell_type": "markdown",
      "source": [
        "### Optional images to add\n",
        "1) **Double-slit schematic:** two slits, spreading wavefronts, screen with bright/dark bands.  \n",
        "   _Caption:_ “Interference arises from adding probability amplitudes, not classical trajectories.”\n",
        "2) **Superposition vs mixture matrix:** show a $2\\times2$ density matrix with and without off-diagonal terms.  \n",
        "   _Caption:_ “Coherence lives in the off-diagonals.”\n",
        "3) **de Broglie scale bar:** electron, C$_{60}$ fullerene, grain of dust, cat. Log scale for $\\lambda$.  \n",
        "   _Caption:_ “Wavelength falls as momentum rises.”"
      ],
      "metadata": {
        "id": "ohAle5S7l88T"
      },
      "id": "ohAle5S7l88T"
    },
    {
      "cell_type": "markdown",
      "source": [
        "## 2. Worked example"
      ],
      "metadata": {
        "id": "cgwisI5umCcM"
      },
      "id": "cgwisI5umCcM"
    },
    {
      "cell_type": "code",
      "metadata": {
        "colab": {
          "base_uri": "https://localhost:8080/"
        },
        "id": "rZQ1vpNBjBjo",
        "outputId": "8a51d58c-ef8e-40d7-ff1a-a86275d0090f"
      },
      "execution_count": 1,
      "outputs": [
        {
          "output_type": "stream",
          "name": "stdout",
          "text": [
            "de Broglie wavelengths\n",
            "Electron  : 7.274e-01 nm\n",
            "C60 molecule: 2.770e-03 nm\n",
            "Baseball  : 1.142e-25 nm\n",
            "Cat       : 5.522e-26 nm\n",
            "Random |psi>: [ 0.72616434+0.52516083j -0.05582762-0.44019852j]\n",
            "Norm^2: 1.0\n"
          ]
        }
      ],
      "source": [
        "# Example A — de Broglie wavelength scales (electron vs baseball vs \"cat\")\n",
        "# You can tweak speeds to see how λ shrinks with momentum.\n",
        "import numpy as np\n",
        "\n",
        "h = 6.62607015e-34  # Planck (J·s)\n",
        "\n",
        "def de_broglie_wavelength(m_kg, v_m_s):\n",
        "    p = m_kg * v_m_s\n",
        "    return h / p  # metres\n",
        "\n",
        "examples = [\n",
        "    (\"Electron\", 9.10938356e-31, 1.0e6),        # fast electron ~ 1,000 km/s\n",
        "    (\"C60 molecule\", 1.196e-24, 200.0),         # buckyball at 200 m/s (lab scale)\n",
        "    (\"Baseball\", 0.145, 40.0),                  # 145 g at 40 m/s\n",
        "    (\"Cat\", 4.0, 3.0),                          # 4 kg at 3 m/s\n",
        "]\n",
        "\n",
        "print(\"de Broglie wavelengths\")\n",
        "for name, m, v in examples:\n",
        "    lam = de_broglie_wavelength(m, v)\n",
        "    unit = \"m\"\n",
        "    scale = lam\n",
        "    if lam < 1e-9:\n",
        "        scale, unit = lam*1e9, \"nm\"\n",
        "    elif lam < 1e-6:\n",
        "        scale, unit = lam*1e6, \"µm\"\n",
        "    elif lam < 1e-3:\n",
        "        scale, unit = lam*1e3, \"mm\"\n",
        "    print(f\"{name:10s}: {scale:.3e} {unit}\")# %% [markdown]\n",
        "# ## 2. Worked example\n",
        "# Replace this with a small, executable example that demonstrates today's idea.\n",
        "\n",
        "# Example stub: create a random single-qubit state vector and verify normalisation.\n",
        "import numpy as np\n",
        "v = np.random.randn(2) + 1j*np.random.randn(2)\n",
        "v = v / np.linalg.norm(v)\n",
        "print(\"Random |psi>:\", v)\n",
        "print(\"Norm^2:\", np.vdot(v, v).real)\n"
      ],
      "id": "rZQ1vpNBjBjo"
    },
    {
      "cell_type": "code",
      "source": [
        "# Example B — 1D double-slit interference (toy model)\n",
        "# This is a simple, didactic amplitude model in one dimension across a screen.\n",
        "\n",
        "import numpy as np\n",
        "import matplotlib.pyplot as plt\n",
        "\n",
        "# Geometry (arbitrary but reasonable units)\n",
        "wavelength = 5e-10         # 0.5 nm (electron-like)\n",
        "k = 2*np.pi / wavelength\n",
        "screen_z = 1.0             # distance to screen\n",
        "slit_sep = 1e-6            # slit separation\n",
        "sigma = 2e-6               # slit width parameter for Gaussian envelope\n",
        "\n",
        "# Screen coordinates\n",
        "x = np.linspace(-50e-6, 50e-6, 4000)\n",
        "\n",
        "# Path lengths from each slit aperture (approximate Fraunhofer)\n",
        "r1 = np.sqrt((x - slit_sep/2)**2 + screen_z**2)\n",
        "r2 = np.sqrt((x + slit_sep/2)**2 + screen_z**2)\n",
        "\n",
        "# Complex amplitudes from two slits with Gaussian weighting\n",
        "A1 = np.exp(-((x - slit_sep/2)**2)/(2*sigma**2)) * np.exp(1j*k*r1) / r1\n",
        "A2 = np.exp(-((x + slit_sep/2)**2)/(2*sigma**2)) * np.exp(1j*k*r2) / r2\n",
        "\n",
        "# Relative phase knob (try 0, np.pi/2, np.pi)\n",
        "phi = 0.0\n",
        "psi = A1 + np.exp(1j*phi)*A2\n",
        "I_interf = (psi * np.conj(psi)).real  # |psi|^2\n",
        "\n",
        "# \"One-slit\" controls (block one slit)\n",
        "I_slit1 = (A1*np.conj(A1)).real\n",
        "I_slit2 = (A2*np.conj(A2)).real\n",
        "\n",
        "# Plot\n",
        "fig, ax = plt.subplots(figsize=(7,4))\n",
        "ax.plot(x*1e6, I_interf/np.max(I_interf), label=\"Two slits (interference)\")\n",
        "ax.plot(x*1e6, I_slit1/np.max(I_slit1), linestyle=\"--\", label=\"Slit 1 only\")\n",
        "ax.plot(x*1e6, I_slit2/np.max(I_slit2), linestyle=\"--\", label=\"Slit 2 only\")\n",
        "ax.set_xlabel(\"Screen position (µm)\")\n",
        "ax.set_ylabel(\"Normalised intensity\")\n",
        "ax.set_title(\"Toy double-slit pattern\")\n",
        "ax.legend()\n",
        "plt.show()"
      ],
      "metadata": {
        "colab": {
          "base_uri": "https://localhost:8080/",
          "height": 410
        },
        "id": "w8fo8Zj4mKiC",
        "outputId": "4efec75e-10d8-4f09-f981-acb9a1496c50"
      },
      "id": "w8fo8Zj4mKiC",
      "execution_count": 2,
      "outputs": [
        {
          "output_type": "display_data",
          "data": {
            "text/plain": [
              "<Figure size 700x400 with 1 Axes>"
            ],
            "image/png": "[encoded data removed]"
          },
          "metadata": {}
        }
      ]
    },
    {
      "cell_type": "code",
      "source": [
        "# Example C — Superposition vs mixture on a qubit (density matrices)\n",
        "# We show how off-diagonal terms (coherence) vanish in a mixture.\n",
        "\n",
        "import numpy as np\n",
        "\n",
        "# |+> = (|0> + |1>) / sqrt(2)\n",
        "ket_plus = (1/np.sqrt(2)) * np.array([[1.0],[1.0]], dtype=complex)\n",
        "rho_superposition = ket_plus @ ket_plus.conj().T  # |+><+|\n",
        "\n",
        "# Mixture: 50% |0>, 50% |1>\n",
        "proj0 = np.array([[1,0],[0,0]], dtype=complex)\n",
        "proj1 = np.array([[0,0],[0,1]], dtype=complex)\n",
        "rho_mixture = 0.5*proj0 + 0.5*proj1\n",
        "\n",
        "print(\"ρ_superposition =\\n\", rho_superposition)\n",
        "print(\"\\nρ_mixture =\\n\", rho_mixture)\n",
        "print(\"\\nOff-diagonals (coherence) → superposition has them, mixture does not.\")\n"
      ],
      "metadata": {
        "colab": {
          "base_uri": "https://localhost:8080/"
        },
        "id": "B6PFs9xHmPqS",
        "outputId": "e894c1ce-820c-4824-d62f-2e2fb1aacf1c"
      },
      "id": "B6PFs9xHmPqS",
      "execution_count": 3,
      "outputs": [
        {
          "output_type": "stream",
          "name": "stdout",
          "text": [
            "ρ_superposition =\n",
            " [[0.5+0.j 0.5+0.j]\n",
            " [0.5+0.j 0.5+0.j]]\n",
            "\n",
            "ρ_mixture =\n",
            " [[0.5+0.j 0. +0.j]\n",
            " [0. +0.j 0.5+0.j]]\n",
            "\n",
            "Off-diagonals (coherence) → superposition has them, mixture does not.\n"
          ]
        }
      ]
    },
    {
      "cell_type": "markdown",
      "source": [
        "### Discussion of the examples\n",
        "- **Example A:** $\\lambda=h/p$ shows why wave effects are huge for electrons and negligible for cats.  \n",
        "- **Example B:** interference vanishes if you block one slit, or if any which-path information leaks to the environment (decoherence).  \n",
        "- **Example C:** only the superposition has off-diagonal coherence. If you randomise the relative phase (due to environment), those terms average to zero → mixture.\n"
      ],
      "metadata": {
        "id": "RWxsq5CVmWDa"
      },
      "id": "RWxsq5CVmWDa"
    },
    {
      "cell_type": "markdown",
      "source": [
        "## 3. Key equations and statements\n",
        "- **de Broglie:** $\\lambda=\\dfrac{h}{p}=\\dfrac{h}{mv}.$\n",
        "- **Time-dependent Schrödinger equation (single particle):**  \n",
        "  $$i\\hbar\\,\\frac{\\partial}{\\partial t}\\psi(\\mathbf r,t)=\\hat H\\,\\psi(\\mathbf r,t).$$\n",
        "- **Born rule:** detection probability density is $|\\psi(\\mathbf r,t)|^2$.\n",
        "- **Two-path interference (toy):**  \n",
        "  If $\\psi=\\psi_1+\\psi_2$, then  \n",
        "  $$|\\psi|^2=|\\psi_1|^2+|\\psi_2|^2+2\\operatorname{Re}\\left(\\psi_1\\psi_2^\\ast\\right).$$\n",
        "  The last term is the interference term that requires phase coherence.\n"
      ],
      "metadata": {
        "id": "kppJ6fhWmaUq"
      },
      "id": "kppJ6fhWmaUq"
    },
    {
      "cell_type": "markdown",
      "source": [
        "## 4. Schrödinger’s cat, carefully\n",
        "- The “cat is alive+dead” line is a **paradox prompt**, not lab practice.  \n",
        "- In reality, the cat, air, box, and Geiger counter interact strongly, causing **rapid decoherence** that selects an effectively classical outcome long before you open the box.  \n",
        "- Modern view: the measurement problem is about when and how quantum probabilities become classical records; decoherence explains why macroscopic superpositions are not observed, though interpretations still differ.\n"
      ],
      "metadata": {
        "id": "32HxNnA2mkv5"
      },
      "id": "32HxNnA2mkv5"
    },
    {
      "cell_type": "markdown",
      "source": [
        "## 5. Try it yourself\n",
        "1) **Phase control:** In Example B, set `phi=np.pi/2`. How does the pattern shift?  \n",
        "2) **Which-path info:** Zero out the cross-term by randomising `phi` over many trials and averaging $|\\psi|^2$. Observe interference wash out.  \n",
        "3) **Visibility vs slit width:** Change `sigma` and `slit_sep` to see fringe spacing and contrast trade-offs.  \n",
        "4) **From superposition to mixture:** In Example C, average $|+\\rangle$ over random phase $e^{i\\theta}$ and show off-diagonals vanish.  \n",
        "5) **Estimate λ:** Pick your own mass and speed, compute $\\lambda$, and argue whether any lab could see interference.\n"
      ],
      "metadata": {
        "id": "2BSPInbzmpMR"
      },
      "id": "2BSPInbzmpMR"
    },
    {
      "cell_type": "markdown",
      "metadata": {
        "id": "UgZWN6d3jBjo"
      },
      "source": [
        "## 4. Reflection\n",
        "- In one paragraph, what surprised you today about **The Bloch Sphere**?\n",
        "- Where did you struggle and how did you resolve it?\n",
        "- What is one question you still have?\n"
      ],
      "id": "UgZWN6d3jBjo"
    },
    {
      "cell_type": "markdown",
      "source": [
        "## 6. Reflection\n",
        "- In one paragraph, explain to your future self why **superposition ≠ “50-50 ignorance”**.  \n",
        "- What convinces you that detection is probabilistic while propagation is wave-like?  \n",
        "- Where do you expect decoherence to matter in quantum technologies you care about?\n"
      ],
      "metadata": {
        "id": "qG5CFbPLmv6x"
      },
      "id": "qG5CFbPLmv6x"
    },
    {
      "cell_type": "markdown",
      "metadata": {
        "id": "m18hmQ3xjBjo"
      },
      "source": [
        "---\n",
        "### Links\n",
        "- **Open in Colab (from GitHub):** replace `YOUR_GITHUB_USERNAME/qucode-21days`\n",
        "  - `https://colab.research.google.com/github/YOUR_GITHUB_USERNAME/qucode-21days/blob/main/Day03_The_Bloch_Sphere.ipynb.ipynb`\n",
        "- **Report an issue / suggest a fix:** link to your repo issues page\n"
      ],
      "id": "m18hmQ3xjBjo"
    }
  ],
  "metadata": {
    "colab": {
      "provenance": [],
      "include_colab_link": true
    },
    "kernelspec": {
      "display_name": "Python 3",
      "language": "python",
      "name": "python3"
    },
    "language_info": {
      "name": "python",
      "version": "3.x"
    }
  },
  "nbformat": 4,
  "nbformat_minor": 5
}