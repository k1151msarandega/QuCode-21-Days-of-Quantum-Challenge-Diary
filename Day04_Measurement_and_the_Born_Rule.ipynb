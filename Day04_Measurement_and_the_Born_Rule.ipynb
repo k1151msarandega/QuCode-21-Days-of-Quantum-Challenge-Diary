{
  "cells": [
    {
      "cell_type": "markdown",
      "metadata": {
        "id": "view-in-github",
        "colab_type": "text"
      },
      "source": [
        "<a href=\"https://colab.research.google.com/github/k1151msarandega/QuCode-21-Days-of-Quantum-Challenge-Diary/blob/main/Day04_Measurement_and_the_Born_Rule.ipynb\" target=\"_parent\"><img src=\"https://colab.research.google.com/assets/colab-badge.svg\" alt=\"Open In Colab\"/></a>"
      ]
    },
    {
      "cell_type": "markdown",
      "metadata": {
        "id": "kPFuwl4l2F2Q"
      },
      "source": [
        "# Day 04 — Introduction to Classical Computing & Boolean Algebra\n",
        "\n",
        "> _QuCode 21 Days of Quantum Challenge — Learning notebook_\n",
        ">\n",
        "> **Date:** 2025-09-04  \n",
        "> **Author:** Kudzai Musarandega  \n",
        "> **Tags:** quantum, learning, challenge, day-04\n",
        ">\n",
        "> **Learning objectives**\n",
        "> - Define **bits**, voltage levels, and the binary number system.\n",
        "> - Build and read **truth tables** for NOT/AND/OR/XOR/XNOR/NAND/NOR.\n",
        "> - Use core Boolean identities (De Morgan, absorption, distributivity) to simplify logic.\n",
        "> - Construct **XOR**, **half-adder**, **full-adder**, and a **2:1 multiplexer** from primitive gates.\n",
        "> - Explain **NAND/NOR universality** and the difference between classical irreversible gates and quantum reversible gates.\n",
        ">\n",
        ">\n",
        "> **Key takeaways (summary-first)**\n",
        "> - A **bit** stores one of two stable states (0/1). Logic gates deterministically map inputs → outputs via truth tables.\n",
        "> - Boolean algebra operates with $\\{\\land,\\lor,\\lnot\\}$ and laws like De Morgan:\n",
        ">$$\\overline{A\\cdot B}=\\overline A+\\overline B,\n",
        "\\qquad\\overline{A+B}=\\overline A\\cdot\\overline B.$$\n",
        ">\n",
        "> - **XOR** (“exactly one”) can be built as $A\\oplus B=A\\overline B+\\overline A B$.\n",
        "> - **NAND** and **NOR** are *functionally complete*: any combinational logic can be built from only NANDs or only NORs.\n",
        "> - Classical gates (except NOT) are **irreversible** (many-to-one). Quantum gates are **reversible/unitary** (one-to-one) and act like rotations on the Bloch sphere; measurement is non-unitary.\n",
        "\n"
      ],
      "id": "kPFuwl4l2F2Q"
    },
    {
      "cell_type": "markdown",
      "metadata": {
        "id": "mRcRvvdB2F2Y"
      },
      "source": [
        "## Resources\n",
        "- **Official/Assigned:**\n",
        "    - [Josh's Channel: Logic Gates Rotate Qubits](https://www.youtube.com/watch?v=ZBaXPY_0TNI)\n",
        "    - [Spanning Tree: Understanding Logic Gates](https://www.youtube.com/watch?v=INEtYZqtjTo)\n",
        "- **Extra reading:**\n",
        "- **Original notes:**\n"
      ],
      "id": "mRcRvvdB2F2Y"
    },
    {
      "cell_type": "code",
      "metadata": {
        "id": "xhhyOZ8d2F2a"
      },
      "execution_count": null,
      "outputs": [],
      "source": [
        "# %% [markdown]\n",
        "# ### Environment setup (Colab)\n",
        "# If you are running on Colab for the first time today, uncomment to install.\n",
        "# This cell intentionally avoids heavy installs by default.\n",
        "#\n",
        "# !pip -q install qiskit pennylane matplotlib numpy\n",
        "\n",
        "import sys, platform, math, json, numpy as np\n",
        "\n",
        "print(\"Python:\", sys.version.split()[0])\n",
        "print(\"Platform:\", platform.platform())\n",
        "np.random.seed(42)\n"
      ],
      "id": "xhhyOZ8d2F2a"
    },
    {
      "cell_type": "markdown",
      "metadata": {
        "id": "QhsyUezP2F2c"
      },
      "source": [
        "## 1. Concepts in brief\n",
        " - Bits are realized physically (voltage high/low, charge, etc.) but abstracted as 0/1.\n",
        " - Logic gates compute Boolean functions:\n",
        "    - NOT (¬),\n",
        "    - AND (·),\n",
        "    - OR (+),\n",
        "    - XOR (⊕), etc.\n",
        " - Boolean identities (selected):\n",
        "    - Identity: A + 0 = A,  A·1 = A\n",
        "    - Null:     A + 1 = 1,  A·0 = 0\n",
        "    - Idempotent: A + A = A,  A·A = A\n",
        "    - Complement: A + ¬A = 1,  A·¬A = 0\n",
        "    - Commutative/Associative: A+B = B+A, (A+B)+C = A+(B+C) (and for ·)\n",
        "    - Distributive: A·(B+C)=A·B + A·C;  A + B·C = (A+B)·(A+C)\n",
        "    - Absorption: A + A·B = A;  A·(A+B)=A\n",
        "    - De Morgan: ¬(A·B)=¬A + ¬B;  ¬(A+B)=¬A·¬B"
      ],
      "id": "QhsyUezP2F2c"
    },
    {
      "cell_type": "markdown",
      "source": [
        "## 2. Worked examples"
      ],
      "metadata": {
        "id": "2DJ0YKZE9RBY"
      },
      "id": "2DJ0YKZE9RBY"
    },
    {
      "cell_type": "code",
      "metadata": {
        "id": "lv5tULOK2F2d"
      },
      "execution_count": 1,
      "outputs": [],
      "source": [
        "## 2. Worked examples\n",
        "# A tiny \"gate\" library, truth-table printer, and classic circuits.\n",
        "from itertools import product\n",
        "\n",
        "def NOT(a):  return 1 - a\n",
        "def AND(a,b): return a & b\n",
        "def OR(a,b):  return a | b\n",
        "def XOR(a,b): return a ^ b\n",
        "def XNOR(a,b): return 1 - (a ^ b)\n",
        "def NAND(a,b): return 1 - (a & b)\n",
        "def NOR(a,b):  return 1 - (a | b)\n",
        "\n",
        "def truth_table(fn, n_inputs=2, names=None):\n",
        "    \"\"\"Print a truth table for fn(*bits).\"\"\"\n",
        "    names = names or [chr(ord('A')+i) for i in range(n_inputs)]\n",
        "    header = \" | \".join(names) + \" || Y\"\n",
        "    print(header)\n",
        "    print(\"-\"*len(header))\n",
        "    for bits in product([0,1], repeat=n_inputs):\n",
        "        y = fn(*bits)\n",
        "        print(\" | \".join(map(str,bits)) + f\" || {y}\")"
      ],
      "id": "lv5tULOK2F2d"
    },
    {
      "cell_type": "code",
      "source": [
        "# Example A — Basic gates\n",
        "print(\"NOT (single input):\")\n",
        "truth_table(lambda a: NOT(a), n_inputs=1, names=[\"A\"]); print()\n",
        "print(\"AND:\")\n",
        "truth_table(lambda a,b: AND(a,b)); print()\n",
        "print(\"OR:\")\n",
        "truth_table(lambda a,b: OR(a,b)); print()\n",
        "print(\"XOR:\")\n",
        "truth_table(lambda a,b: XOR(a,b)); print()"
      ],
      "metadata": {
        "colab": {
          "base_uri": "https://localhost:8080/"
        },
        "id": "34EFtwxL9YGA",
        "outputId": "07f3d164-50b4-431a-f930-ac7f364b7e7f"
      },
      "id": "34EFtwxL9YGA",
      "execution_count": 2,
      "outputs": [
        {
          "output_type": "stream",
          "name": "stdout",
          "text": [
            "NOT (single input):\n",
            "A || Y\n",
            "------\n",
            "0 || 1\n",
            "1 || 0\n",
            "\n",
            "AND:\n",
            "A | B || Y\n",
            "----------\n",
            "0 | 0 || 0\n",
            "0 | 1 || 0\n",
            "1 | 0 || 0\n",
            "1 | 1 || 1\n",
            "\n",
            "OR:\n",
            "A | B || Y\n",
            "----------\n",
            "0 | 0 || 0\n",
            "0 | 1 || 1\n",
            "1 | 0 || 1\n",
            "1 | 1 || 1\n",
            "\n",
            "XOR:\n",
            "A | B || Y\n",
            "----------\n",
            "0 | 0 || 0\n",
            "0 | 1 || 1\n",
            "1 | 0 || 1\n",
            "1 | 1 || 0\n",
            "\n"
          ]
        }
      ]
    },
    {
      "cell_type": "code",
      "source": [
        "# Example B — XOR from {AND, OR, NOT} and NAND-only universality\n",
        "def XOR_sum_of_products(a,b):\n",
        "    # A⊕B = A·¬B + ¬A·B\n",
        "    return OR(AND(a, NOT(b)), AND(NOT(a), b))\n",
        "\n",
        "def NOT_from_NAND(a): return NAND(a,a)\n",
        "def AND_from_NAND(a,b): return NOT_from_NAND(NAND(a,b))\n",
        "def OR_from_NAND(a,b):  return NAND(NOT_from_NAND(a), NOT_from_NAND(b))\n",
        "def XOR_from_NAND(a,b):\n",
        "    t1 = NAND(a,b)\n",
        "    t2 = NAND(a,t1)\n",
        "    t3 = NAND(b,t1)\n",
        "    return NAND(t2,t3)\n",
        "\n",
        "print(\"Check XOR equivalences:\")\n",
        "truth_table(lambda a,b: (XOR(a,b), XOR_sum_of_products(a,b), XOR_from_NAND(a,b)),\n",
        "            names=[\"A\",\"B\",\"(⊕, SOP, NAND-only)\"])\n"
      ],
      "metadata": {
        "colab": {
          "base_uri": "https://localhost:8080/"
        },
        "id": "_J6QxraF9c0A",
        "outputId": "d8d56383-1e36-429e-b254-28a5d3843fc3"
      },
      "id": "_J6QxraF9c0A",
      "execution_count": 3,
      "outputs": [
        {
          "output_type": "stream",
          "name": "stdout",
          "text": [
            "Check XOR equivalences:\n",
            "A | B | (⊕, SOP, NAND-only) || Y\n",
            "--------------------------------\n",
            "0 | 0 || (0, 0, 0)\n",
            "0 | 1 || (1, 1, 1)\n",
            "1 | 0 || (1, 1, 1)\n",
            "1 | 1 || (0, 0, 0)\n"
          ]
        }
      ]
    },
    {
      "cell_type": "code",
      "source": [
        "# Example C — Half-adder and Full-adder\n",
        "# Half-adder: inputs A,B → (Sum, Carry)\n",
        "def half_adder(a,b):\n",
        "    return XOR(a,b), AND(a,b)\n",
        "\n",
        "# Full-adder: inputs A,B,Cin → (Sum, Cout)\n",
        "def full_adder(a,b,cin):\n",
        "    s1, c1 = half_adder(a,b)\n",
        "    s2, c2 = half_adder(s1,cin)\n",
        "    cout = OR(c1,c2)\n",
        "    return s2, cout\n",
        "\n",
        "print(\"Half-adder (A,B → S,C):\")\n",
        "print(\"A B || S C\")\n",
        "for A,B in product([0,1],[0,1]):\n",
        "    S,C = half_adder(A,B)\n",
        "    print(f\"{A} {B} || {S} {C}\")\n",
        "\n",
        "print(\"\\nFull-adder (A,B,Cin → S,Cout):\")\n",
        "print(\"A B Cin || S Cout\")\n",
        "for A,B,Cin in product([0,1],[0,1],[0,1]):\n",
        "    S,Cout = full_adder(A,B,Cin)\n",
        "    print(f\"{A} {B}  {Cin}  || {S}   {Cout}\")\n"
      ],
      "metadata": {
        "colab": {
          "base_uri": "https://localhost:8080/"
        },
        "id": "RmHTCudK9fq6",
        "outputId": "16864f75-bd01-4e60-d0ac-b138930fcc50"
      },
      "id": "RmHTCudK9fq6",
      "execution_count": 4,
      "outputs": [
        {
          "output_type": "stream",
          "name": "stdout",
          "text": [
            "Half-adder (A,B → S,C):\n",
            "A B || S C\n",
            "0 0 || 0 0\n",
            "0 1 || 1 0\n",
            "1 0 || 1 0\n",
            "1 1 || 0 1\n",
            "\n",
            "Full-adder (A,B,Cin → S,Cout):\n",
            "A B Cin || S Cout\n",
            "0 0  0  || 0   0\n",
            "0 0  1  || 1   0\n",
            "0 1  0  || 1   0\n",
            "0 1  1  || 0   1\n",
            "1 0  0  || 1   0\n",
            "1 0  1  || 0   1\n",
            "1 1  0  || 0   1\n",
            "1 1  1  || 1   1\n"
          ]
        }
      ]
    },
    {
      "cell_type": "code",
      "source": [
        "# Example D — 2:1 Multiplexer (MUX)\n",
        "# Select S chooses between inputs D0 (A) and D1 (B):\n",
        "# Y = ¬S·A + S·B\n",
        "def mux2(A,B,S):\n",
        "    return OR(AND(NOT(S),A), AND(S,B))\n",
        "\n",
        "print(\"2:1 MUX (A,B,S → Y):\")\n",
        "print(\"A B S || Y\")\n",
        "for A,B,S in product([0,1],[0,1],[0,1]):\n",
        "    Y = mux2(A,B,S)\n",
        "    print(f\"{A} {B} {S} || {Y}\")\n"
      ],
      "metadata": {
        "colab": {
          "base_uri": "https://localhost:8080/"
        },
        "id": "uobGAO3Y9jC3",
        "outputId": "f9fa6b51-0a9e-4a76-96db-eb9d76b61bc8"
      },
      "id": "uobGAO3Y9jC3",
      "execution_count": 5,
      "outputs": [
        {
          "output_type": "stream",
          "name": "stdout",
          "text": [
            "2:1 MUX (A,B,S → Y):\n",
            "A B S || Y\n",
            "0 0 0 || 0\n",
            "0 0 1 || 0\n",
            "0 1 0 || 0\n",
            "0 1 1 || 1\n",
            "1 0 0 || 1\n",
            "1 0 1 || 0\n",
            "1 1 0 || 1\n",
            "1 1 1 || 1\n"
          ]
        }
      ]
    },
    {
      "cell_type": "code",
      "source": [
        "# Example E — From truth table to Sum-of-Products (SOP)\n",
        "def sop_from_tt(vars, rows):\n",
        "    \"\"\"\n",
        "    vars: list of variable names, like [\"A\",\"B\",\"C\"]\n",
        "    rows: list of tuples (*inputs, y)\n",
        "    Returns a human-readable SOP string of minterms where y==1.\n",
        "    \"\"\"\n",
        "    def lit(name, val): return name if val==1 else f\"¬{name}\"\n",
        "    minterms = []\n",
        "    for row in rows:\n",
        "        *ins, y = row\n",
        "        if y==1:\n",
        "            conj = \"·\".join(lit(n,v) for n,v in zip(vars, ins))\n",
        "            minterms.append(conj)\n",
        "    if not minterms:\n",
        "        return \"0\"\n",
        "    return \" + \".join(minterms)\n",
        "\n",
        "# Example: design \"exactly one of A,B,C is 1\"\n",
        "rows = []\n",
        "for A,B,C in product([0,1],[0,1],[0,1]):\n",
        "    y = (A + B + C == 1)  # Python bool → 0/1\n",
        "    rows.append((A,B,C,int(y)))\n",
        "\n",
        "expr = sop_from_tt([\"A\",\"B\",\"C\"], rows)\n",
        "print(\"SOP for 'exactly one of A,B,C is 1':\")\n",
        "print(\"Y =\", expr)\n"
      ],
      "metadata": {
        "colab": {
          "base_uri": "https://localhost:8080/"
        },
        "id": "VP2j6TQZ9nap",
        "outputId": "84eb7e24-ed11-4073-9c0f-e5874e081a08"
      },
      "id": "VP2j6TQZ9nap",
      "execution_count": 6,
      "outputs": [
        {
          "output_type": "stream",
          "name": "stdout",
          "text": [
            "SOP for 'exactly one of A,B,C is 1':\n",
            "Y = ¬A·¬B·C + ¬A·B·¬C + A·¬B·¬C\n"
          ]
        }
      ]
    },
    {
      "cell_type": "markdown",
      "source": [
        "### Discussion of the examples\n",
        "- **XOR builds**: Verified equality of native XOR, $A\\overline B+\\overline A B$, and a NAND-only realization.  \n",
        "- **Adders**: Half-adder computes $S=A\\oplus B$, $C=A\\cdot B$. A full-adder composes two half-adders + OR for carry.  \n",
        "- **MUX**: $Y=\\overline S\\cdot A + S\\cdot B$ is the canonical form; it generalizes to selectors and demultiplexers.  \n",
        "- **SOP synthesis**: From any truth table you can list minterms (rows with $Y=1$) and OR them. Use identities/K-maps to simplify.\n"
      ],
      "metadata": {
        "id": "N6OPa5Eb93O4"
      },
      "id": "N6OPa5Eb93O4"
    },
    {
      "cell_type": "markdown",
      "source": [
        "## 3. Boolean algebra: a mini cheat-sheet\n",
        "- **Canonical forms**\n",
        "  - *Sum of Products (SOP)*: $Y=\\bigvee_k \\bigwedge_i X_i^{(\\pm)}$ (OR of ANDs).\n",
        "  - *Product of Sums (POS)*: $Y=\\bigwedge_k \\bigvee_i X_i^{(\\pm)}$ (AND of ORs).\n",
        "- **Common patterns**\n",
        "  - XOR: $A\\oplus B=A\\overline B+\\overline A B$  \n",
        "  - Majority (3-input): $M(A,B,C)=AB+AC+BC$\n",
        "  - Multiplexer 2:1: $Y=\\overline S\\cdot D_0 + S\\cdot D_1$\n",
        "- **De Morgan in practice**\n",
        "  - Implement OR from NANDs: $A+B=\\overline{\\overline A\\cdot \\overline B}$ → NAND(NOT(A),NOT(B))\n",
        "  - Implement AND from NORs: $A\\cdot B=\\overline{\\overline{A+B}}$ → NOR(NOR(A,A),NOR(B,B))\n"
      ],
      "metadata": {
        "id": "I3LFjZKW988H"
      },
      "id": "I3LFjZKW988H"
    },
    {
      "cell_type": "markdown",
      "source": [
        "## 4. Classical ↔ Quantum (quick bridge)\n",
        "- Classical gates **discard information** (AND: 00,01,10 → 0). Without the inputs, you can’t invert the operation.\n",
        "- Quantum gates are **reversible/unitary**; they look like rotations on the **Bloch sphere**.  \n",
        "  - $X$ flips $\\lvert 0\\rangle\\leftrightarrow\\lvert1\\rangle$ (a $\\pi$ rotation about $x$).  \n",
        "  - $Z$ flips phase, $H$ creates/undoes equal superpositions.  \n",
        "- Measurement is **destructive**: it collapses superpositions → definite classical bits, analogous to sampling a wire with a probe but with state disturbance.\n"
      ],
      "metadata": {
        "id": "ej2J5F-7-CVn"
      },
      "id": "ej2J5F-7-CVn"
    },
    {
      "cell_type": "markdown",
      "metadata": {
        "id": "H1qjyseT2F2e"
      },
      "source": [
        "## 5. Try it yourself\n",
        "1) **NAND-only library:** Re-implement NOT/AND/OR/XOR using only NAND; re-print truth tables.  \n",
        "2) **K-map simplification:** For the 3-input “exactly one” function, draw a Karnaugh map and simplify.  \n",
        "3) **4:1 MUX:** Build from two 2:1 MUXes + a final 2:1 stage; write the SOP expression.  \n",
        "4) **1-bit ALU slice:** Inputs A,B, control bits for AND/OR/XOR/ADD; design with a MUX that chooses among operations.  \n",
        "5) **Ripple-carry adder:** Chain four full-adders for a 4-bit adder; test a few sums in code.\n"
      ],
      "id": "H1qjyseT2F2e"
    },
    {
      "cell_type": "markdown",
      "metadata": {
        "id": "K0oyt42q2F2e"
      },
      "source": [
        "## 6. Reflection\n",
        "- Where did Boolean identities save the most gates in your designs?  \n",
        "- Explain why NAND/NOR universality matters for real chips (manufacturing/library simplicity).  \n",
        "- In one paragraph, contrast an **irreversible** gate (AND) with a **reversible** Toffoli gate and how this foreshadows quantum circuits.\n"
      ],
      "id": "K0oyt42q2F2e"
    },
    {
      "cell_type": "markdown",
      "source": [
        "### Optional images to add\n",
        "1) **Gate symbols sheet:** NOT, AND, OR, XOR, NAND, NOR in a tidy grid.  \n",
        "   _Caption:_ “Primitive gates and their ANSI symbols.”  \n",
        "2) **K-map for XOR (2-var) or ‘exactly one’ (3-var):** colored groupings showing simplification.  \n",
        "   _Caption:_ “Grouping adjacent 1s yields minimal SOP.”  \n",
        "3) **Half/Full-adder block diagrams:** show signal flow and carry propagation.  \n",
        "   _Caption:_ “Full-adder = two half-adders + OR.”  \n",
        "4) **NAND-only XOR schematic:** draw the four-NAND construction.  \n",
        "   _Caption:_ “NAND universality in practice.”\n"
      ],
      "metadata": {
        "id": "FtTbvzNA-ZaA"
      },
      "id": "FtTbvzNA-ZaA"
    },
    {
      "cell_type": "markdown",
      "metadata": {
        "id": "AjOn5jAv2F2f"
      },
      "source": [
        "---\n",
        "### Links\n",
        "- **Open in Colab (from GitHub):** replace `YOUR_GITHUB_USERNAME/qucode-21days`\n",
        "  - `https://colab.research.google.com/github/YOUR_GITHUB_USERNAME/qucode-21days/blob/main/Day04_Measurement_and_the_Born_Rule.ipynb.ipynb`\n",
        "- **Report an issue / suggest a fix:** link to your repo issues page\n"
      ],
      "id": "AjOn5jAv2F2f"
    }
  ],
  "metadata": {
    "colab": {
      "provenance": [],
      "include_colab_link": true
    },
    "kernelspec": {
      "display_name": "Python 3",
      "language": "python",
      "name": "python3"
    },
    "language_info": {
      "name": "python",
      "version": "3.x"
    }
  },
  "nbformat": 4,
  "nbformat_minor": 5
}