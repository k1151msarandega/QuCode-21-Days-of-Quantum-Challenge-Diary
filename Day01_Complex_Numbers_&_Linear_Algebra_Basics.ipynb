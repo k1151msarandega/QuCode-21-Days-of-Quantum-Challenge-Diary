{
  "cells": [
    {
      "cell_type": "markdown",
      "metadata": {
        "id": "view-in-github",
        "colab_type": "text"
      },
      "source": [
        "<a href=\"https://colab.research.google.com/github/k1151msarandega/QuCode-21-Days-of-Quantum-Challenge-Diary/blob/main/Day01_Complex_Numbers_%26_Linear_Algebra_Basics.ipynb\" target=\"_parent\"><img src=\"https://colab.research.google.com/assets/colab-badge.svg\" alt=\"Open In Colab\"/></a>"
      ]
    },
    {
      "cell_type": "markdown",
      "metadata": {
        "id": "eFLGewNysekr"
      },
      "source": [
        "# Day 01 — Complex Numbers & Linear Algebra Basics\n",
        "\n",
        "> _QuCode 21 Days of Quantum Challenge — Learning notebook_\n",
        ">\n",
        "> **Date:** 2025-09-01  \n",
        "> **Author:** Kudzai Musarandega  \n",
        "> **Tags:** quantum, learning, challenge, day-01\n",
        ">\n",
        "> **Learning objectives**\n",
        "> - Understand three perspectives on vectors: physics (arrows), computer science (lists), and mathematics (abstract operations).\n",
        "> - Practise vector addition and scalar multiplication both geometrically and numerically.\n",
        ">- Recognise matrices as linear transformations of space.\n",
        ">Define eigenvectors and eigenvalues, and understand their geometric meaning.\n",
        ">\n",
        ">\n",
        "> **Key takeaways (summary-first)**\n",
        "> - A **vector** can be seen as either an arrow from the origin, or an ordered list of numbers (coordinates).\n",
        "> - **Vector addition** = tip-to-tail → component-wise sum.\n",
        "> - **Scalar multiplication** = stretching/squishing/flipping a vector.\n",
        "> - A **matrix** describes how basis vectors are moved → linear transformations.\n",
        "> - **Eigenvectors** are special vectors that stay on their span under a transformation; their **eigenvalues** are the stretch/squish factors.\n",
        "> - Diagonalisation = choosing an eigenbasis so the matrix becomes diagonal → makes repeated powers and transformations easier to compute.\n"
      ],
      "id": "eFLGewNysekr"
    },
    {
      "cell_type": "markdown",
      "metadata": {
        "id": "iJYq9tKaseky"
      },
      "source": [
        "## Resources\n",
        "- **Official/Assigned:**\n",
        "    - [3Blue1Brown: Vectors](https://youtu.be/fNk_zzaMoSs?si=qXT5fhNjD5q7eyfz)  \n",
        "    - [3Blue1Brown: Eigenvectors and Eigenvalues](https://youtu.be/PFDu9oVAE-g?si=5KCuDQ_4GnR5Np7f)  \n",
        "\n",
        "- **Extra reading:**\n",
        "    - [Gilbert Strang MIT Linear Algebra (OpenCourseWare)](https://youtube.com/playlist?list=PL49CF3715CB9EF31D&si=X4Hwx_iyFqWfeg43)\n"
      ],
      "id": "iJYq9tKaseky"
    },
    {
      "cell_type": "code",
      "metadata": {
        "id": "DIaZDl1Qsek0"
      },
      "execution_count": null,
      "outputs": [],
      "source": [
        "# %% [markdown]\n",
        "# ### Environment setup (Colab)\n",
        "# If you are running on Colab for the first time today, uncomment to install.\n",
        "# This cell intentionally avoids heavy installs by default.\n",
        "#\n",
        "# !pip -q install qiskit pennylane matplotlib numpy\n",
        "\n",
        "import sys, platform, math, json, numpy as np\n",
        "\n",
        "print(\"Python:\", sys.version.split()[0])\n",
        "print(\"Platform:\", platform.platform())\n",
        "np.random.seed(42)\n"
      ],
      "id": "DIaZDl1Qsek0"
    },
    {
      "cell_type": "markdown",
      "metadata": {
        "id": "AwZesDUDsek2"
      },
      "source": [
        "## 1. Concepts in brief\n",
        "\n",
        "- **Vectors:** objects you can add together and scale. Represented as arrows or coordinate lists.  \n",
        "- **Matrices:** arrays of numbers that implement linear transformations.  \n",
        "- **Eigenvectors/eigenvalues:**  \n",
        "  - For $Av = \\lambda v$, the vector $v$ is unchanged in direction, only scaled by $\\lambda$.  \n",
        "  - Not all transformations have real eigenvectors (for example, a $90^\\circ$ rotation).  \n",
        "\n",
        "---\n"
      ],
      "id": "AwZesDUDsek2"
    },
    {
      "cell_type": "markdown",
      "source": [
        "## 2. Worked examples"
      ],
      "metadata": {
        "id": "A-tzNy99yxzi"
      },
      "id": "A-tzNy99yxzi"
    },
    {
      "cell_type": "code",
      "metadata": {
        "colab": {
          "base_uri": "https://localhost:8080/"
        },
        "id": "MuMea3l2sek3",
        "outputId": "16c2aafd-3a54-4deb-9996-b22f84c389c7"
      },
      "execution_count": null,
      "outputs": [
        {
          "output_type": "stream",
          "name": "stdout",
          "text": [
            "v + w = [4 1]\n",
            "2 * v = [2 4]\n",
            "-1.5 * w = [-4.5  1.5]\n",
            "Eigenvalues: [3. 2.]\n",
            "Eigenvectors (columns):\n",
            " [[ 1.         -0.70710678]\n",
            " [ 0.          0.70710678]]\n"
          ]
        }
      ],
      "source": [
        "## 2. Worked examples\n",
        "\n",
        "import numpy as np\n",
        "\n",
        "# Example 1: Vector addition and scalar multiplication\n",
        "v = np.array([1, 2])\n",
        "w = np.array([3, -1])\n",
        "\n",
        "print(\"v + w =\", v + w)\n",
        "print(\"2 * v =\", 2 * v)\n",
        "print(\"-1.5 * w =\", -1.5 * w)\n",
        "\n",
        "# Example 2: Eigenvalues/eigenvectors of a 2x2 matrix\n",
        "A = np.array([[3, 1],\n",
        "              [0, 2]])\n",
        "\n",
        "vals, vecs = np.linalg.eig(A)\n",
        "\n",
        "print(\"Eigenvalues:\", vals)\n",
        "print(\"Eigenvectors (columns):\\n\", vecs)"
      ],
      "id": "MuMea3l2sek3"
    },
    {
      "cell_type": "markdown",
      "metadata": {
        "id": "ToJAXuggsek4"
      },
      "source": [
        "## 3. Try it yourself\n",
        "- Replace a line in the worked example with your own idea.\n",
        "- Pose and answer one comprehension question in code.\n",
        "- Optional: add a plot or a simple circuit demo.\n"
      ],
      "id": "ToJAXuggsek4"
    },
    {
      "cell_type": "markdown",
      "metadata": {
        "id": "MxoGnRfBsek4"
      },
      "source": [
        "## 4. Reflection\n",
        "- In one paragraph, what surprised you today about **Qubits vs Classical Bits**?\n",
        "- Where did you struggle and how did you resolve it?\n",
        "- What is one question you still have?\n"
      ],
      "id": "MxoGnRfBsek4"
    },
    {
      "cell_type": "markdown",
      "metadata": {
        "id": "u2PpCQ-Hsek5"
      },
      "source": [
        "---\n",
        "### Links\n",
        "- **Open in Colab (from GitHub):** replace `YOUR_GITHUB_USERNAME/qucode-21days`\n",
        "  - `https://colab.research.google.com/github/YOUR_GITHUB_USERNAME/qucode-21days/blob/main/Day01_Qubits_vs_Classical_Bits.ipynb.ipynb`\n",
        "- **Report an issue / suggest a fix:** link to your repo issues page\n"
      ],
      "id": "u2PpCQ-Hsek5"
    }
  ],
  "metadata": {
    "colab": {
      "provenance": [],
      "include_colab_link": true
    },
    "kernelspec": {
      "display_name": "Python 3",
      "language": "python",
      "name": "python3"
    },
    "language_info": {
      "name": "python",
      "version": "3.x"
    }
  },
  "nbformat": 4,
  "nbformat_minor": 5
}