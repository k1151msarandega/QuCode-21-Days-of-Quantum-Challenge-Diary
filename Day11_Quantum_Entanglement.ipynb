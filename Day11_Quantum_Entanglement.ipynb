{
  "cells": [
    {
      "cell_type": "markdown",
      "metadata": {
        "id": "view-in-github",
        "colab_type": "text"
      },
      "source": [
        "<a href=\"https://colab.research.google.com/github/k1151msarandega/QuCode-21-Days-of-Quantum-Challenge-Diary/blob/main/Day11_Quantum_Entanglement.ipynb\" target=\"_parent\"><img src=\"https://colab.research.google.com/assets/colab-badge.svg\" alt=\"Open In Colab\"/></a>"
      ]
    },
    {
      "cell_type": "markdown",
      "metadata": {
        "id": "1rbTSSl3wA74"
      },
      "source": [
        "# Day 11 — Quantum Entanglement\n",
        "\n",
        "> _QuCode 21 Days of Quantum Challenge — Learning notebook_\n",
        ">\n",
        "> **Date:** 2025-09-011  \n",
        "> **Author:** Kudzai Musarandega  \n",
        "> **Tags:** quantum, learning, challenge, day-11  \n",
        "> **Focus:** Bell states, EPR paradox, Non-locality\n",
        ">\n",
        "> **Learning objectives**\n",
        "> - **Write** the four **Bell states** and build them from simple gates (H + CNOT).\n",
        "> - **Explain** the **EPR paradox** (local realism vs. quantum predictions).\n",
        "> - **Compute** and **simulate** a **CHSH** Bell test and see a violation (target \\(S=2\\sqrt{2}\\)).\n",
        "> - **Distinguish** entanglement from signalling (why violations don't enable FTL comms).\n",
        "\n",
        ">\n",
        "> **Key takeaways (summary-first)**\n",
        "> - Bullet 1\n",
        "> - Bullet 2\n",
        "> - Bullet 3\n"
      ],
      "id": "1rbTSSl3wA74"
    },
    {
      "cell_type": "markdown",
      "metadata": {
        "id": "7Q0pOcBJwA79"
      },
      "source": [
        "## Resources\n",
        "- **Official/Assigned:**\n",
        "    - [EPR Paradox: EASY Quantum Mechanics VISUALISED, Why Einstein HATED Spooky Action At A Distance by Parth G](https://www.youtube.com/watch?v=fBR5HQ-Ja10)\n",
        "    - [Bell's Inequality-The weirdest theorem in the world by Qiskit](https://www.youtube.com/watch?v=9OM0jSTeeBg)\n",
        "    - [The EPR Paradox & Bell's inequality explained simply by Arvin Ash](https://www.youtube.com/watch?v=f72whGQ31Wg)\n",
        "- **Extra reading:**\n",
        "    - [Quantum Entanglement & Spooky Action at a Distance by Veritasium](https://www.youtube.com/watch?v=ZuvK-od647c)\n",
        "- **Original notes:**\n"
      ],
      "id": "7Q0pOcBJwA79"
    },
    {
      "cell_type": "code",
      "metadata": {
        "colab": {
          "base_uri": "https://localhost:8080/"
        },
        "id": "2TJNeD5NwA7-",
        "outputId": "da9749b8-ab21-4f60-b214-9c18897f5bbe"
      },
      "execution_count": 2,
      "outputs": [
        {
          "output_type": "stream",
          "name": "stdout",
          "text": [
            "Python: 3.12.11\n",
            "Platform: Linux-6.1.123+-x86_64-with-glibc2.35\n"
          ]
        }
      ],
      "source": [
        "# %% [markdown]\n",
        "# ### Environment setup (Colab)\n",
        "# If you are running on Colab for the first time today, uncomment to install.\n",
        "# This cell intentionally avoids heavy installs by default.\n",
        "#\n",
        "# !pip -q install qiskit pennylane matplotlib numpy\n",
        "\n",
        "import sys, platform, math, json, numpy as np\n",
        "\n",
        "print(\"Python:\", sys.version.split()[0])\n",
        "print(\"Platform:\", platform.platform())\n",
        "np.random.seed(42)\n"
      ],
      "id": "2TJNeD5NwA7-"
    },
    {
      "cell_type": "markdown",
      "source": [
        "## 1. Concepts in brief\n",
        "\n",
        "- **Entanglement:** Two-qubit states can be **non-separable**; Bell states are maximally entangled.\n",
        "- **Bell states:** Orthonormal basis of the 2-qubit space that exhibits perfect (anti)correlations.\n",
        "- **EPR paradox:** Tension between **locality** (no faster-than-light influence) and **realism** (pre-existing values).\n",
        "- **Bell/CHSH inequality:** Any **local realistic** theory obeys  \n",
        "$$\n",
        "|S| \\leq 2\n",
        "$$  \n",
        "while quantum mechanics can reach  \n",
        "$$\n",
        "2\\sqrt{2}.\n",
        "$$\n",
        "- **No-signalling:** Despite strong correlations, each party’s local outcomes are uniformly random (no FTL communication)."
      ],
      "metadata": {
        "id": "4hKa9qaV5TL9"
      },
      "id": "4hKa9qaV5TL9"
    },
    {
      "cell_type": "markdown",
      "metadata": {
        "id": "RSuRlm8MwA8A"
      },
      "source": [
        "## 2. Bell states & circuits\n",
        "\n",
        "The four maximally entangled 2-qubit states:\n",
        "$$\n",
        "\\begin{aligned}\n",
        "\\lvert\\Phi^{\\pm}\\rangle &= \\tfrac{1}{\\sqrt{2}}\\big(\\lvert 00\\rangle \\pm \\lvert 11\\rangle\\big),\\\\\n",
        "\\lvert\\Psi^{\\pm}\\rangle &= \\tfrac{1}{\\sqrt{2}}\\big(\\lvert 01\\rangle \\pm \\lvert 10\\rangle\\big).\n",
        "\\end{aligned}\n",
        "$$\n",
        "\n",
        "**Circuit to create \\( \\lvert\\Phi^+\\rangle \\)** from \\( \\lvert 00\\rangle \\): apply **H** on qubit 0, then **CNOT** (control=0, target=1).\n",
        "\n",
        "**Maximal entanglement check:** the reduced density matrix of each single qubit is maximally mixed:\n",
        "$$\n",
        "\\rho_A=\\rho_B=\\tfrac{1}{2}\\,I.\n",
        "$$"
      ],
      "id": "RSuRlm8MwA8A"
    },
    {
      "cell_type": "code",
      "metadata": {
        "colab": {
          "base_uri": "https://localhost:8080/"
        },
        "id": "JeBYQqjdwA8B",
        "outputId": "a9d3aeaa-2222-475e-ae0c-f7670a86f1c4"
      },
      "execution_count": 3,
      "outputs": [
        {
          "output_type": "stream",
          "name": "stdout",
          "text": [
            "Phi+ reduced states ~ I/2?\n",
            "  ρA = [[0.5+0.j 0. +0.j]\n",
            " [0. +0.j 0.5+0.j]]\n",
            "  ρB = [[1.+0.j 0.+0.j]\n",
            " [0.+0.j 1.+0.j]]\n",
            "Phi- reduced states ~ I/2?\n",
            "  ρA = [[0.5+0.j 0. +0.j]\n",
            " [0. +0.j 0.5+0.j]]\n",
            "  ρB = [[0.+0.j 0.+0.j]\n",
            " [0.+0.j 0.+0.j]]\n",
            "Psi+ reduced states ~ I/2?\n",
            "  ρA = [[0.5+0.j 0. +0.j]\n",
            " [0. +0.j 0.5+0.j]]\n",
            "  ρB = [[0.+0.j 0.+0.j]\n",
            " [0.+0.j 0.+0.j]]\n",
            "Psi- reduced states ~ I/2?\n",
            "  ρA = [[-0.5+0.j  0. +0.j]\n",
            " [ 0. +0.j -0.5+0.j]]\n",
            "  ρB = [[0.+0.j 0.+0.j]\n",
            " [0.+0.j 0.+0.j]]\n"
          ]
        }
      ],
      "source": [
        "# Bell states, reduced states = mixed?\n",
        "import numpy as np\n",
        "\n",
        "# basis |00>,|01>,|10>,|11>\n",
        "zero = np.array([1,0], dtype=complex)\n",
        "one  = np.array([0,1], dtype=complex)\n",
        "basis = [np.kron(zero, zero), np.kron(zero, one), np.kron(one, zero), np.kron(one, one)]\n",
        "\n",
        "# Bell states\n",
        "Phi_plus  = (basis[0] + basis[3]) / np.sqrt(2)\n",
        "Phi_minus = (basis[0] - basis[3]) / np.sqrt(2)\n",
        "Psi_plus  = (basis[1] + basis[2]) / np.sqrt(2)\n",
        "Psi_minus = (basis[1] - basis[2]) / np.sqrt(2)  # singlet\n",
        "\n",
        "def density(psi):\n",
        "    psi = psi.reshape(-1,1)\n",
        "    return psi @ psi.conj().T\n",
        "\n",
        "def partial_trace_AB_to_A(rho):\n",
        "    # dimA=dimB=2\n",
        "    rho = rho.reshape(2,2,2,2)\n",
        "    # trace over B (indices 1 and 3)\n",
        "    return np.einsum('ijjk->ik', rho)\n",
        "\n",
        "def partial_trace_AB_to_B(rho):\n",
        "    rho = rho.reshape(2,2,2,2)\n",
        "    # trace over A (indices 0 and 2)\n",
        "    return np.einsum('iijk->jk', rho)\n",
        "\n",
        "I2 = np.eye(2)/2\n",
        "for name, state in [('Phi+',Phi_plus), ('Phi-',Phi_minus), ('Psi+',Psi_plus), ('Psi-',Psi_minus)]:\n",
        "    rho = density(state)\n",
        "    rhoA = partial_trace_AB_to_A(rho)\n",
        "    rhoB = partial_trace_AB_to_B(rho)\n",
        "    print(f\"{name} reduced states ~ I/2?\")\n",
        "    print(\"  ρA =\", np.round(rhoA, 3))\n",
        "    print(\"  ρB =\", np.round(rhoB, 3))\n",
        "\n"
      ],
      "id": "JeBYQqjdwA8B"
    },
    {
      "cell_type": "markdown",
      "source": [
        "## 3. EPR paradox (concept)\n",
        "**Local realism** assumes two things:\n",
        "- **Locality:** influences cannot propagate faster than light.\n",
        "- **Realism:** measurement outcomes reflect **pre-existing** values.\n",
        "\n",
        "EPR argued entangled pairs let you infer a distant outcome **instantaneously**, challenging locality or realism.  \n",
        "**Bell/CHSH** showed: any **local realistic** model obeys a bound, but **quantum** predictions **violate** it.\n",
        "\n"
      ],
      "metadata": {
        "id": "ecERNi_H6gf0"
      },
      "id": "ecERNi_H6gf0"
    },
    {
      "cell_type": "markdown",
      "source": [
        "## 4. Bell–CHSH inequality\n",
        "\n",
        "Define two measurement settings for **Alice**: $$A_0, A_1$$ and for **Bob**: $$B_0, B_1,$$ each with outcomes $$\\pm 1.$$\n",
        "\n",
        "The **CHSH** parameter:\n",
        "$$\n",
        "S \\;=\\; E(A_0B_0) + E(A_0B_1) + E(A_1B_0) - E(A_1B_1),\n",
        "$$\n",
        "where $$E$$ is the correlation, $$E=\\langle ab\\rangle.$$\n",
        "\n",
        "**Local realism bound:**\n",
        "$$\n",
        "|S| \\le 2\n",
        "$$\n",
        "\n",
        "**Quantum (Tsirelson) bound:**\n",
        "$$\n",
        "|S| \\le 2\\sqrt{2}\n",
        "$$\n",
        "\n",
        "For the **singlet** state\n",
        "$$\\lvert\\Psi^{-}\\rangle,$$ measuring spin along unit vectors\n",
        "\n",
        "$$\n",
        "\\mathbf{a},\\mathbf{b}\n",
        "$$\n",
        "\n",
        " gives\n",
        "$$\n",
        "E(\\mathbf{a},\\mathbf{b}) \\;=\\; -\\,\\mathbf{a}\\cdot\\mathbf{b}.\n",
        "$$\n",
        "\n",
        "Choosing coplanar directions\n",
        "$$\n",
        "\\theta_{A_0}=0,\\quad\n",
        "\\theta_{A_1}=\\tfrac{\\pi}{2},\\quad\n",
        "\\theta_{B_0}=\\tfrac{\\pi}{4},\\quad\n",
        "\\theta_{B_1}=-\\tfrac{\\pi}{4}.\n",
        "$$\n",
        "\n",
        "yields\n",
        "$$\n",
        "|S| = 2\\sqrt{2}.\n",
        "$$"
      ],
      "metadata": {
        "id": "NSh_JMbb7H3T"
      },
      "id": "NSh_JMbb7H3T"
    },
    {
      "cell_type": "code",
      "source": [
        "# Analytic CHSH for singlet using E = -a·b with 2D angles\n",
        "import numpy as np\n",
        "\n",
        "def unit(theta):\n",
        "    return np.array([np.cos(theta), np.sin(theta)])\n",
        "\n",
        "def E_singlet(theta_a, theta_b):\n",
        "    a, b = unit(theta_a), unit(theta_b)\n",
        "    return -np.dot(a, b)\n",
        "\n",
        "A0, A1 = 0.0, np.pi/2\n",
        "B0, B1 = np.pi/4, -np.pi/4\n",
        "\n",
        "S = (E_singlet(A0,B0) + E_singlet(A0,B1) +\n",
        "     E_singlet(A1,B0) - E_singlet(A1,B1))\n",
        "print(\"Analytic CHSH S =\", S, \"(expected 2√2 ≈\", 2*np.sqrt(2), \")\")\n"
      ],
      "metadata": {
        "colab": {
          "base_uri": "https://localhost:8080/"
        },
        "id": "DAo1bcMi-o3x",
        "outputId": "76ac01aa-c66c-4b1a-c239-7d50a0cd1e37"
      },
      "id": "DAo1bcMi-o3x",
      "execution_count": 4,
      "outputs": [
        {
          "output_type": "stream",
          "name": "stdout",
          "text": [
            "Analytic CHSH S = -2.8284271247461903 (expected 2√2 ≈ 2.8284271247461903 )\n"
          ]
        }
      ]
    },
    {
      "cell_type": "markdown",
      "metadata": {
        "id": "rJUYbXdbwA8B"
      },
      "source": [
        "### 3.1 Monte-Carlo CHSH with joint probabilities\n",
        "For the singlet, the **joint** probability for outcomes $$r,s\\in\\{\\pm 1\\}$$ at settings $$\\mathbf{a},\\mathbf{b}$$ is\n",
        "$$P(r,s\\mid \\mathbf{a},\\mathbf{b}) \\;=\\; \\tfrac{1}{4}\\big(1 - r\\,s\\,\\mathbf{a}\\cdot\\mathbf{b}\\big).$$\n",
        "We can sample from this to estimate $$E$$ and $$S.$$\n"
      ],
      "id": "rJUYbXdbwA8B"
    },
    {
      "cell_type": "code",
      "source": [
        "# Monte-Carlo sampler for joint outcomes on the singlet\n",
        "rng = np.random.default_rng(1234)\n",
        "\n",
        "def sample_joint(a_theta, b_theta, shots=10_000):\n",
        "    a, b = unit(a_theta), unit(b_theta)\n",
        "    c = np.dot(a,b)\n",
        "    # outcomes list in fixed order: (r,s) = (+1,+1), (+1,-1), (-1,+1), (-1,-1)\n",
        "    outcomes = np.array([[+1,+1],[+1,-1],[-1,+1],[-1,-1]])\n",
        "    probs = 0.25*np.array([1 - (+1)*(+1)*c,\n",
        "                           1 - (+1)*(-1)*c,\n",
        "                           1 - (-1)*(+1)*c,\n",
        "                           1 - (-1)*(-1)*c])\n",
        "    # numerics guard\n",
        "    probs = np.clip(probs, 0.0, 1.0)\n",
        "    probs = probs/np.sum(probs)\n",
        "    idx = rng.choice(4, size=shots, p=probs)\n",
        "    rs = outcomes[idx]\n",
        "    r, s = rs[:,0], rs[:,1]\n",
        "    E = np.mean(r*s)\n",
        "    return E\n",
        "\n",
        "def estimate_CHSH(shots=20_000):\n",
        "    E00 = sample_joint(A0,B0,shots)\n",
        "    E01 = sample_joint(A0,B1,shots)\n",
        "    E10 = sample_joint(A1,B0,shots)\n",
        "    E11 = sample_joint(A1,B1,shots)\n",
        "    S_hat = E00 + E01 + E10 - E11\n",
        "    return S_hat, (E00,E01,E10,E11)\n",
        "\n",
        "S_hat, Es = estimate_CHSH(shots=200_000)\n",
        "print(\"Monte-Carlo CHSH S ≈\", round(S_hat, 4), \" (local ≤ 2, quantum ≤ 2√2 ≈\", round(2*np.sqrt(2),4), \")\")\n",
        "print(\"E00, E01, E10, E11 ≈\", [round(e,4) for e in Es])\n"
      ],
      "metadata": {
        "colab": {
          "base_uri": "https://localhost:8080/"
        },
        "id": "wV7TZ5Gr_aPG",
        "outputId": "51ba2f45-a590-4213-a120-7bfbb187fc02"
      },
      "id": "wV7TZ5Gr_aPG",
      "execution_count": 5,
      "outputs": [
        {
          "output_type": "stream",
          "name": "stdout",
          "text": [
            "Monte-Carlo CHSH S ≈ -2.8292  (local ≤ 2, quantum ≤ 2√2 ≈ 2.8284 )\n",
            "E00, E01, E10, E11 ≈ [np.float64(-0.7087), np.float64(-0.7064), np.float64(-0.707), np.float64(0.7072)]\n"
          ]
        }
      ]
    },
    {
      "cell_type": "markdown",
      "source": [
        "## 4) No-signalling (why this isn’t FTL)\n",
        "Even though correlations violate local-realist bounds, each party’s **marginals** are always uniform:\n",
        "$$\n",
        "P(r\\mid \\mathbf{a})=\\tfrac{1}{2},\\qquad P(s\\mid \\mathbf{b})=\\tfrac{1}{2}.\n",
        "$$\n",
        "Equivalently, the local statistics don’t depend on the other side’s setting:\n",
        "$$\n",
        "P(r\\mid \\mathbf{a},\\mathbf{b})=P(r\\mid \\mathbf{a}),\\qquad\n",
        "P(s\\mid \\mathbf{a},\\mathbf{b})=P(s\\mid \\mathbf{b}).\n",
        "$$\n",
        "So no information can be sent faster than light."
      ],
      "metadata": {
        "id": "eDmbh2r8_fL3"
      },
      "id": "eDmbh2r8_fL3"
    },
    {
      "cell_type": "markdown",
      "source": [
        "## 5) Key takeaways\n",
        "- **Bell states** are maximally entangled; each subsystem is maximally mixed $$(\\rho=\\tfrac{1}{2}I).$$\n",
        "- **EPR** highlighted tension between **locality** and **realism**; **Bell/CHSH** turned it into a testable inequality.\n",
        "- **Experiments & our sim** violate $$ |S|\\le 2 $$ and approach $$ 2\\sqrt{2} ,$$ ruling out **local hidden variables**.\n",
        "- **Entanglement ≠ signalling**: strong correlations, but local outcome distributions remain $$1/2,1/2.$$\n"
      ],
      "metadata": {
        "id": "Sx7uDUchBTbs"
      },
      "id": "Sx7uDUchBTbs"
    },
    {
      "cell_type": "markdown",
      "source": [
        "## 6) Quick exercises\n",
        "1. **Other Bell states:** repeat the CHSH analytic + Monte-Carlo for $$ \\lvert\\Phi^+\\rangle $$ with the optimal axes in the $$x\\!-\\!z$$ plane.\n",
        "2. **Visibility:** mix white noise: $$ \\rho_v = v\\,\\lvert\\Psi^-\\rangle\\langle\\Psi^-| + (1-v)\\,I/4 .$$\n",
        "\n",
        "   Show numerically that $$S \\approx 2\\sqrt{2}\\,v$$ and find the threshold $$v$$ where the violation disappears.\n",
        "\n",
        "3. **No-signalling check:** verify numerically that $$P(r=+1\\mid \\mathbf{a})=1/2$$ for many $$\\mathbf{b}.$$\n"
      ],
      "metadata": {
        "id": "2cZ19aw2eNwi"
      },
      "id": "2cZ19aw2eNwi"
    },
    {
      "cell_type": "code",
      "source": [
        "import numpy as np\n",
        "\n",
        "# Pauli matrices and identities\n",
        "I2 = np.eye(2, dtype=complex)\n",
        "sx = np.array([[0,1],[1,0]], dtype=complex)\n",
        "sy = np.array([[0,-1j],[1j,0]], dtype=complex)\n",
        "sz = np.array([[1,0],[0,-1]], dtype=complex)\n",
        "paulis = np.array([sx, sy, sz], dtype=object)\n",
        "\n",
        "def kron(*ops):\n",
        "    \"\"\"Kronecker product of a list of operators.\"\"\"\n",
        "    out = np.array([[1]], dtype=complex)\n",
        "    for op in ops:\n",
        "        out = np.kron(out, op)\n",
        "    return out\n",
        "\n",
        "def ket00():\n",
        "    v = np.zeros((4,1), dtype=complex)\n",
        "    v[0,0] = 1.0\n",
        "    return v\n",
        "\n",
        "def bell_phi_plus():\n",
        "    # |Φ+> = (|00> + |11>)/√2\n",
        "    v = np.zeros((4,1), dtype=complex)\n",
        "    v[0,0] = 1/np.sqrt(2)\n",
        "    v[3,0] = 1/np.sqrt(2)\n",
        "    return v\n",
        "\n",
        "def bell_psi_minus():\n",
        "    # |Ψ-> = (|01> - |10|)/√2\n",
        "    v = np.zeros((4,1), dtype=complex)\n",
        "    v[1,0] = 1/np.sqrt(2)\n",
        "    v[2,0] = -1/np.sqrt(2)\n",
        "    return v\n",
        "\n",
        "def rho_pure(ket):\n",
        "    return ket @ ket.conj().T\n",
        "\n",
        "def bloch_op(n):\n",
        "    \"\"\"Return observable n·σ with ||n||=1 for a single qubit.\"\"\"\n",
        "    n = np.asarray(n, dtype=float)\n",
        "    return n[0]*sx + n[1]*sy + n[2]*sz\n",
        "\n",
        "def proj(bloch_vec, outcome):\n",
        "    \"\"\"\n",
        "    Projector Π_outcome for measuring along bloch_vec with outcome ∈ {+1,-1}:\n",
        "    Π = (I + outcome * n·σ)/2\n",
        "    \"\"\"\n",
        "    return 0.5*(I2 + outcome * bloch_op(bloch_vec))\n",
        "\n",
        "def E_corr(rho, a, b):\n",
        "    \"\"\"\n",
        "    Correlator E = ⟨(a·σ)⊗(b·σ)⟩ for 2-qubit state rho.\n",
        "    \"\"\"\n",
        "    A = bloch_op(a)\n",
        "    B = bloch_op(b)\n",
        "    obs = kron(A, B)\n",
        "    return np.real_if_close(np.trace(rho @ obs))\n",
        "\n",
        "def CHSH_S(rho, A0, A1, B0, B1):\n",
        "    \"\"\"\n",
        "    S = E(A0,B0) + E(A0,B1) + E(A1,B0) - E(A1,B1)\n",
        "    \"\"\"\n",
        "    return (E_corr(rho, A0, B0) + E_corr(rho, A0, B1) +\n",
        "            E_corr(rho, A1, B0) - E_corr(rho, A1, B1))\n",
        "\n",
        "def normalize(v):\n",
        "    v = np.asarray(v, dtype=float)\n",
        "    n = np.linalg.norm(v)\n",
        "    if n == 0:\n",
        "        raise ValueError(\"Zero vector cannot be normalized.\")\n",
        "    return v / n\n",
        "\n",
        "def rot_xz(theta):\n",
        "    \"\"\"\n",
        "    Unit vector in the x–z plane making polar angle theta from +z toward +x.\n",
        "    theta=0 -> +z ; theta=pi/2 -> +x.\n",
        "    \"\"\"\n",
        "    return normalize([np.sin(theta), 0.0, np.cos(theta)])\n",
        "\n",
        "rng = np.random.default_rng(123)\n"
      ],
      "metadata": {
        "id": "YemZuxE7h2M4"
      },
      "id": "YemZuxE7h2M4",
      "execution_count": 7,
      "outputs": []
    },
    {
      "cell_type": "markdown",
      "source": [
        "### Exercise 1: CHSH for $|\\Phi^+\\rangle$\n",
        "Optimal axes in the $x\\!-\\!z$ plane:\n",
        "- Alice: $A_0=\\hat z$, $A_1=\\hat x$\n",
        "- Bob: $B_0=(\\hat z+\\hat x)/\\sqrt{2}$, $B_1=(\\hat z-\\hat x)/\\sqrt{2}$"
      ],
      "metadata": {
        "id": "WoI0b9BOh_GH"
      },
      "id": "WoI0b9BOh_GH"
    },
    {
      "cell_type": "code",
      "source": [
        "# Compute S for |Φ+>\n",
        "phi_plus = bell_phi_plus()\n",
        "rho_phi = rho_pure(phi_plus)\n",
        "\n",
        "A0 = rot_xz(0.0)            # +z\n",
        "A1 = rot_xz(np.pi/2)        # +x\n",
        "B0 = normalize([1,0,1])     # (x+z)/√2\n",
        "B1 = normalize([-1,0,1])    # (-x+z)/√2\n",
        "\n",
        "S_phi = CHSH_S(rho_phi, A0, A1, B0, B1)\n",
        "print(\"S(|Φ+⟩) =\", S_phi, \"  |S| ≈\", np.abs(S_phi))\n",
        "print(\"2√2 ≈\", 2*np.sqrt(2))\n"
      ],
      "metadata": {
        "colab": {
          "base_uri": "https://localhost:8080/"
        },
        "id": "4ADzJ1sKj8AW",
        "outputId": "8565138b-c474-4312-eeba-82e95186fb80"
      },
      "id": "4ADzJ1sKj8AW",
      "execution_count": 8,
      "outputs": [
        {
          "output_type": "stream",
          "name": "stdout",
          "text": [
            "S(|Φ+⟩) = 2.828427124746189   |S| ≈ 2.828427124746189\n",
            "2√2 ≈ 2.8284271247461903\n"
          ]
        }
      ]
    },
    {
      "cell_type": "markdown",
      "source": [
        "### Exercise 2: Visibility with Werner noise\n",
        "Singlet state mixed with white noise:\n",
        "$$\n",
        "\\rho_v = v|\\Psi^-\\rangle\\langle\\Psi^-| + (1-v)\\,I/4\n",
        "$$\n",
        "Prediction: $S \\approx 2\\sqrt{2}v$, violation lost when $v\\le 1/\\sqrt{2}$."
      ],
      "metadata": {
        "id": "I8bR2RxUkGRR"
      },
      "id": "I8bR2RxUkGRR"
    },
    {
      "cell_type": "code",
      "source": [
        "# Build Werner state and scan S vs v\n",
        "psi_minus = bell_psi_minus()\n",
        "rho_singlet = rho_pure(psi_minus)\n",
        "I4 = np.eye(4, dtype=complex)\n",
        "\n",
        "def werner(v):\n",
        "    return v*rho_singlet + (1-v)*I4/4\n",
        "\n",
        "# Singlet-optimal axes in some plane; use the x–z plane mapping\n",
        "A0_s = rot_xz(0.0)           # z\n",
        "A1_s = rot_xz(np.pi/2)       # x\n",
        "B0_s = rot_xz(np.pi/4)       # halfway toward x\n",
        "B1_s = rot_xz(-np.pi/4)      # halfway toward -x\n",
        "\n",
        "vs = np.linspace(0, 1, 11)\n",
        "Ss = []\n",
        "for v in vs:\n",
        "    rho_v = werner(v)\n",
        "    S_v = CHSH_S(rho_v, A0_s, A1_s, B0_s, B1_s)\n",
        "    Ss.append(np.real_if_close(S_v))\n",
        "\n",
        "Ss = np.array(Ss, dtype=float)\n",
        "\n",
        "for v, S_v in zip(vs, Ss):\n",
        "    print(f\"v={v:0.2f}  S≈{S_v:0.4f}   (2√2 v≈{2*np.sqrt(2)*v:0.4f})\")\n",
        "\n",
        "# Optional: quick plot\n",
        "import matplotlib.pyplot as plt\n",
        "\n",
        "plt.figure()\n",
        "plt.plot(vs, Ss, 'o-', label='Numerical S(v)')\n",
        "plt.plot(vs, 2*np.sqrt(2)*vs, '--', label=r'$2\\sqrt{2}\\,v$ (theory)')\n",
        "plt.axhline(2, color='gray', linestyle=':', label='Local bound = 2')\n",
        "plt.xlabel('v')\n",
        "plt.ylabel('CHSH S')\n",
        "plt.legend()\n",
        "plt.title('Werner state: CHSH vs visibility v')\n",
        "plt.show()\n",
        "\n",
        "v_threshold = 2/(2*np.sqrt(2))  # when S=2\n",
        "print(\"Violation disappears at v ≤\", v_threshold, \"≈\", float(v_threshold))\n"
      ],
      "metadata": {
        "colab": {
          "base_uri": "https://localhost:8080/",
          "height": 685
        },
        "id": "iQ3oQXI5lCdv",
        "outputId": "2fd27f40-ebc6-40d1-bf4c-dc44c83436a8"
      },
      "id": "iQ3oQXI5lCdv",
      "execution_count": 9,
      "outputs": [
        {
          "output_type": "stream",
          "name": "stdout",
          "text": [
            "v=0.00  S≈0.0000   (2√2 v≈0.0000)\n",
            "v=0.10  S≈-0.2828   (2√2 v≈0.2828)\n",
            "v=0.20  S≈-0.5657   (2√2 v≈0.5657)\n",
            "v=0.30  S≈-0.8485   (2√2 v≈0.8485)\n",
            "v=0.40  S≈-1.1314   (2√2 v≈1.1314)\n",
            "v=0.50  S≈-1.4142   (2√2 v≈1.4142)\n",
            "v=0.60  S≈-1.6971   (2√2 v≈1.6971)\n",
            "v=0.70  S≈-1.9799   (2√2 v≈1.9799)\n",
            "v=0.80  S≈-2.2627   (2√2 v≈2.2627)\n",
            "v=0.90  S≈-2.5456   (2√2 v≈2.5456)\n",
            "v=1.00  S≈-2.8284   (2√2 v≈2.8284)\n"
          ]
        },
        {
          "output_type": "display_data",
          "data": {
            "text/plain": [
              "<Figure size 640x480 with 1 Axes>"
            ],
            "image/png": "[encoded data removed]"
          },
          "metadata": {}
        },
        {
          "output_type": "stream",
          "name": "stdout",
          "text": [
            "Violation disappears at v ≤ 0.7071067811865475 ≈ 0.7071067811865475\n"
          ]
        }
      ]
    },
    {
      "cell_type": "markdown",
      "source": [
        "### Exercise 3: No-signalling check\n",
        "Confirm that $P(r=+1|\\mathbf a)=1/2$ independent of Bob’s choice.\n"
      ],
      "metadata": {
        "id": "2XC3Winopyd9"
      },
      "id": "2XC3Winopyd9"
    },
    {
      "cell_type": "code",
      "source": [
        "def random_bloch(n_samples=1, plane=None):\n",
        "    \"\"\"\n",
        "    Sample random unit Bloch vectors.\n",
        "    plane=None -> uniform on sphere\n",
        "    plane='xz' -> random angle in x–z plane\n",
        "    \"\"\"\n",
        "    if plane == 'xz':\n",
        "        thetas = rng.uniform(0, 2*np.pi, size=n_samples)\n",
        "        vecs = np.stack([np.sin(thetas), np.zeros(n_samples), np.cos(thetas)], axis=1)\n",
        "        return vecs\n",
        "    # Uniform on sphere\n",
        "    u = rng.uniform(-1, 1, size=n_samples)\n",
        "    phi = rng.uniform(0, 2*np.pi, size=n_samples)\n",
        "    x = np.sqrt(1-u**2)*np.cos(phi)\n",
        "    y = np.sqrt(1-u**2)*np.sin(phi)\n",
        "    z = u\n",
        "    return np.stack([x,y,z], axis=1)\n",
        "\n",
        "def P_A_plus(rho, a_vec):\n",
        "    \"\"\"P(r=+1 | a) = Tr[(Π+^A ⊗ I) rho].\"\"\"\n",
        "    Pi_plus = proj(a_vec, +1)\n",
        "    M = kron(Pi_plus, I2)\n",
        "    return float(np.real_if_close(np.trace(M @ rho)))\n",
        "\n",
        "# Test for singlet\n",
        "rho = rho_singlet\n",
        "a_vec = rot_xz(0.37)  # any fixed Alice axis\n",
        "\n",
        "B_samples = random_bloch(n_samples=200, plane=None)\n",
        "Ps = []\n",
        "for b_vec in B_samples:\n",
        "    # Note: Bob's choice does not enter marginal; we include it to emphasize independence.\n",
        "    Ps.append(P_A_plus(rho, a_vec))\n",
        "\n",
        "Ps = np.array(Ps)\n",
        "print(\"Mean P_A(r=+1) over many Bob settings ≈\", Ps.mean())\n",
        "print(\"Std. dev. over Bob settings ≈\", Ps.std())\n",
        "\n",
        "# Repeat for a noisy Werner state (still no-signalling)\n",
        "rho = werner(0.6)\n",
        "Ps2 = [P_A_plus(rho, a_vec) for _ in range(200)]\n",
        "print(\"Werner(v=0.6): Mean P_A(r=+1) ≈\", np.mean(Ps2), \" Std ≈\", np.std(Ps2))\n"
      ],
      "metadata": {
        "colab": {
          "base_uri": "https://localhost:8080/"
        },
        "id": "Ui-6FNOSpOUR",
        "outputId": "36119a8e-2940-4588-d9cb-a58d6be7428a"
      },
      "id": "Ui-6FNOSpOUR",
      "execution_count": 11,
      "outputs": [
        {
          "output_type": "stream",
          "name": "stdout",
          "text": [
            "Mean P_A(r=+1) over many Bob settings ≈ 0.49999999999999994\n",
            "Std. dev. over Bob settings ≈ 1.1102230246251565e-16\n",
            "Werner(v=0.6): Mean P_A(r=+1) ≈ 0.49999999999999994  Std ≈ 1.1102230246251565e-16\n"
          ]
        }
      ]
    },
    {
      "cell_type": "code",
      "source": [
        "# Bonus: Exercise 2 helper — CHSH on Werner state by sampling\n",
        "# We sample (with prob v) from singlet joint probs, else from uniform noise.\n",
        "def sample_joint_werner(a_theta, b_theta, v=1.0, shots=20_000):\n",
        "    a, b = unit(a_theta), unit(b_theta)\n",
        "    c = np.dot(a,b)\n",
        "    # singlet joint probs\n",
        "    Ps = 0.25*np.array([1 - (+1)*(+1)*c,\n",
        "                        1 - (+1)*(-1)*c,\n",
        "                        1 - (-1)*(+1)*c,\n",
        "                        1 - (-1)*(-1)*c])\n",
        "    Ps = np.clip(Ps,0,1); Ps = Ps/np.sum(Ps)\n",
        "    # white noise joint probs\n",
        "    Pw = np.full(4, 0.25)\n",
        "    P  = v*Ps + (1-v)*Pw\n",
        "    outcomes = np.array([[+1,+1],[+1,-1],[-1,+1],[-1,-1]])\n",
        "    idx = rng.choice(4, size=shots, p=P)\n",
        "    rs = outcomes[idx]\n",
        "    r, s = rs[:,0], rs[:,1]\n",
        "    return np.mean(r*s)\n",
        "\n",
        "def estimate_CHSH_werner(v=1.0, shots=50_000):\n",
        "    E00 = sample_joint_werner(A0,B0,v,shots)\n",
        "    E01 = sample_joint_werner(A0,B1,v,shots)\n",
        "    E10 = sample_joint_werner(A1,B0,v,shots)\n",
        "    E11 = sample_joint_werner(A1,B1,v,shots)\n",
        "    S = E00 + E01 + E10 - E11\n",
        "    return S\n",
        "\n",
        "for v in [1.0, 0.9, 0.8, 0.75, 0.707, 0.6]:\n",
        "    Sh = estimate_CHSH_werner(v, shots=100_000)\n",
        "    print(f\"v={v:0.3f}  S≈{Sh:0.4f}  (2√2·v≈{(2*np.sqrt(2)*v):0.4f})\")\n"
      ],
      "metadata": {
        "colab": {
          "base_uri": "https://localhost:8080/"
        },
        "id": "o_7T4Sj_fNKB",
        "outputId": "bf0fbfbb-e62a-4833-8fc6-1b50bef0617e"
      },
      "id": "o_7T4Sj_fNKB",
      "execution_count": 6,
      "outputs": [
        {
          "output_type": "stream",
          "name": "stdout",
          "text": [
            "v=1.000  S≈-2.8263  (2√2·v≈2.8284)\n",
            "v=0.900  S≈-2.5541  (2√2·v≈2.5456)\n",
            "v=0.800  S≈-2.2590  (2√2·v≈2.2627)\n",
            "v=0.750  S≈-2.1236  (2√2·v≈2.1213)\n",
            "v=0.707  S≈-1.9931  (2√2·v≈1.9997)\n",
            "v=0.600  S≈-1.7042  (2√2·v≈1.6971)\n"
          ]
        }
      ]
    },
    {
      "cell_type": "markdown",
      "source": [
        "## What to look for\n",
        "- **Exercise 1:** The printed `S(|Φ+⟩)` should be very close to $$2\\sqrt{2}\\approx 2.828.$$\n",
        "- **Exercise 2:** The table and plot should track $$S(v)\\approx 2\\sqrt{2}\\,v$$, with violation lost near $$v=1/\\sqrt{2}\\approx 0.707.$$\n",
        "- **Exercise 3:** The reported means should be $$\\approx 0.5$$ with tiny fluctuation, independent of Bob’s choices — **no signalling**.\n"
      ],
      "metadata": {
        "id": "jrxxdo3QxV7T"
      },
      "id": "jrxxdo3QxV7T"
    },
    {
      "cell_type": "markdown",
      "metadata": {
        "id": "nDXQFA7VwA8C"
      },
      "source": [
        "## 7. Reflection\n",
        "\n",
        "Working through these exercises deepened the intuition behind **Bell inequalities** and what makes them so striking:\n",
        "\n",
        "- **Different Bell states:**  \n",
        "  The fact that $|\\Phi^+\\rangle$ also reaches the Tsirelson bound shows that maximal entanglement, not just the singlet, underpins the violation.  \n",
        "  Choice of axes (here in the $x\\!-\\!z$ plane) is essential to reveal the non-classical correlations.\n",
        "\n",
        "- **Visibility & noise:**  \n",
        "  Adding white noise smoothly degrades the CHSH value, and the clean scaling $S \\approx 2\\sqrt{2}v$ highlights how fragile violations are.  \n",
        "  The critical threshold $v = 1/\\sqrt{2}$ ($\\approx 0.707$) marks the border where quantum advantage disappears.\n",
        "\n",
        "- **No-signalling principle:**  \n",
        "  Even with strong correlations, Alice’s marginal outcomes remain perfectly random.  \n",
        "  This uniformity is what prevents faster-than-light signalling, preserving consistency with relativity.\n",
        "\n",
        "---\n",
        "\n",
        "### Key Insight\n",
        "Entanglement gives correlations that **defy local realism** but still **respect relativistic causality**.  \n",
        "Noise and measurement choice reveal both the power and the limits of these quantum resources.\n"
      ],
      "id": "nDXQFA7VwA8C"
    },
    {
      "cell_type": "markdown",
      "metadata": {
        "id": "gIRGZSRewA8C"
      },
      "source": [
        "---\n",
        "### Links\n",
        "- **Open in Colab (from GitHub):** replace `YOUR_GITHUB_USERNAME/qucode-21days`\n",
        "  - `https://colab.research.google.com/github/YOUR_GITHUB_USERNAME/qucode-21days/blob/main/Day11_Deutsch-Jozsa_Algorithm.ipynb.ipynb`\n",
        "- **Report an issue / suggest a fix:** link to your repo issues page\n"
      ],
      "id": "gIRGZSRewA8C"
    }
  ],
  "metadata": {
    "colab": {
      "provenance": [],
      "include_colab_link": true
    },
    "kernelspec": {
      "display_name": "Python 3",
      "language": "python",
      "name": "python3"
    },
    "language_info": {
      "name": "python",
      "version": "3.x"
    }
  },
  "nbformat": 4,
  "nbformat_minor": 5
}