{
  "cells": [
    {
      "cell_type": "markdown",
      "metadata": {},
      "source": "# Day 09 — Quantum Gates & Circuits\n\n> _QuCode 21 Days of Quantum Challenge — Learning notebook_\n> \n> **Date:** 2025-09-03  \n> **Author:** YOUR_NAME  \n> **Tags:** quantum, learning, challenge, day-09\n> \n> **Learning objectives**\n> - Fill in 2–4 clear, measurable objectives for today.\n> \n> **Key takeaways (summary-first)**\n> - Bullet 1\n> - Bullet 2\n> - Bullet 3\n"
    },
    {
      "cell_type": "markdown",
      "metadata": {},
      "source": "## Resources\n- **Official/Assigned:** Add links to videos, docs, or tutorials\n- **Extra reading:** Add one or two carefully chosen extras\n- **Original notes:** If you derived or proved something, link or write it here\n"
    },
    {
      "cell_type": "code",
      "metadata": {},
      "execution_count": null,
      "outputs": [],
      "source": "# %% [markdown]\n# ### Environment setup (Colab)\n# If you are running on Colab for the first time today, uncomment to install.\n# This cell intentionally avoids heavy installs by default.\n#\n# !pip -q install qiskit pennylane matplotlib numpy\n\nimport sys, platform, math, json, numpy as np\n\nprint(\"Python:\", sys.version.split()[0])\nprint(\"Platform:\", platform.platform())\nnp.random.seed(42)\n"
    },
    {
      "cell_type": "markdown",
      "metadata": {},
      "source": "## 1. Concepts in brief\nWrite a concise explanation, ideally with one diagram or equation that captures the heart of **Superdense Coding**.  \nKeep it short, then link to deeper explanations below.\n"
    },
    {
      "cell_type": "code",
      "metadata": {},
      "execution_count": null,
      "outputs": [],
      "source": "# %% [markdown]\n# ## 2. Worked example\n# Replace this with a small, executable example that demonstrates today's idea.\n\n# Example stub: create a random single-qubit state vector and verify normalisation.\nimport numpy as np\nv = np.random.randn(2) + 1j*np.random.randn(2)\nv = v / np.linalg.norm(v)\nprint(\"Random |psi>:\", v)\nprint(\"Norm^2:\", np.vdot(v, v).real)\n"
    },
    {
      "cell_type": "markdown",
      "metadata": {},
      "source": "## 3. Try it yourself\n- Replace a line in the worked example with your own idea.\n- Pose and answer one comprehension question in code.\n- Optional: add a plot or a simple circuit demo.\n"
    },
    {
      "cell_type": "markdown",
      "metadata": {},
      "source": "## 4. Reflection\n- In one paragraph, what surprised you today about **Superdense Coding**?\n- Where did you struggle and how did you resolve it?\n- What is one question you still have?\n"
    },
    {
      "cell_type": "markdown",
      "metadata": {},
      "source": "---\n### Links\n- **Open in Colab (from GitHub):** replace `YOUR_GITHUB_USERNAME/qucode-21days`\n  - `https://colab.research.google.com/github/YOUR_GITHUB_USERNAME/qucode-21days/blob/main/Day09_Superdense_Coding.ipynb.ipynb`\n- **Report an issue / suggest a fix:** link to your repo issues page\n"
    }
  ],
  "metadata": {
    "colab": {
      "provenance": []
    },
    "kernelspec": {
      "display_name": "Python 3",
      "language": "python",
      "name": "python3"
    },
    "language_info": {
      "name": "python",
      "version": "3.x"
    }
  },
  "nbformat": 4,
  "nbformat_minor": 5
}
