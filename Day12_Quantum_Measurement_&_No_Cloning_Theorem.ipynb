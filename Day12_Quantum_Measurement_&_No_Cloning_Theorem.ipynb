{
  "cells": [
    {
      "cell_type": "markdown",
      "metadata": {
        "id": "view-in-github",
        "colab_type": "text"
      },
      "source": [
        "<a href=\"https://colab.research.google.com/github/k1151msarandega/QuCode-21-Days-of-Quantum-Challenge-Diary/blob/main/Day12_Quantum_Measurement_%26_No_Cloning_Theorem.ipynb\" target=\"_parent\"><img src=\"https://colab.research.google.com/assets/colab-badge.svg\" alt=\"Open In Colab\"/></a>"
      ]
    },
    {
      "cell_type": "markdown",
      "metadata": {
        "id": "E1LN1jCscaai"
      },
      "source": [
        "# Day 12 — Quantum Measurement & No-Cloning Theorem\n",
        "\n",
        "> _QuCode 21 Days of Quantum Challenge — Learning notebook_\n",
        ">\n",
        "> **Date:** 2025-09-03  \n",
        "> **Author:** YOUR_NAME  \n",
        "> **Tags:** quantum, learning, challenge, day-12\n",
        ">\n",
        "> **Learning objectives**\n",
        "> - Explain projective (von Neumann) measurement and state update (collapse/projection).\n",
        "> - Compute post-measurement states and probabilities for partial measurements on multi-qubit systems.\n",
        "> - State and prove the no-cloning theorem (linearity proof and inner-product preservation proof).\n",
        "> - Recognise why cloning is allowed for orthogonal bases but not for arbitrary unknown states.\n",
        "> - Connect measurement collapse examples to the uncertainty principle (position vs momentum intuition).\n",
        ">\n",
        "> **Key takeaways (summary-first)**\n",
        "> - Measurement outcomes are eigenvalues; states collapse to the corresponding eigenstates and must be **renormalised**.\n",
        "> - For composite systems, **partial measurements** project onto subspaces consistent with the observed outcomes.\n",
        "> - **No-cloning theorem:** no unitary can clone an arbitrary, unknown state; linearity and inner-product preservation are violated.\n",
        "> - Cloning *is* possible for a **fixed orthonormal set** (e.g., computational basis) via controlled copy, but not for arbitrary superpositions.\n",
        "> - Measuring one observable (e.g., momentum) generally **destroys information** about a non-commuting one (e.g., position).\n"
      ],
      "id": "E1LN1jCscaai"
    },
    {
      "cell_type": "markdown",
      "metadata": {
        "id": "oFWaultDcaas"
      },
      "source": [
        "## Resources\n",
        "- **Official/Assigned:**\n",
        "    - [*Advanced Maths: Quantum Computing #9 — Two Proofs of No-Cloning Theorem*](https://www.youtube.com/watch?v=qtjdyAziXr8)  \n",
        "    - [*Let's Code Physics — Measurement and wave function collapse (Computational Quantum Mechanics 3)*](https://www.youtube.com/watch?v=QmZJf3ipW7g)  \n",
        "    - [*Armin Rahmani — Projective measurements in quantum computing*](https://www.youtube.com/watch?v=VxoMYQIzA6k)  \n",
        "    - [*Science Discussed — Do Quantum Wavefunctions Actually Collapse?*](https://www.youtube.com/watch?v=1pLynSfLucs)\n",
        "- **Extra reading:**\n",
        "\n",
        "- **Original notes:**\n"
      ],
      "id": "oFWaultDcaas"
    },
    {
      "cell_type": "code",
      "metadata": {
        "id": "Kh9Yp142caat"
      },
      "execution_count": null,
      "outputs": [],
      "source": [
        "# %% [markdown]\n",
        "# ### Environment setup (Colab)\n",
        "# If you are running on Colab for the first time today, uncomment to install.\n",
        "# This cell intentionally avoids heavy installs by default.\n",
        "#\n",
        "# !pip -q install qiskit pennylane matplotlib numpy\n",
        "\n",
        "import sys, platform, math, json, numpy as np\n",
        "\n",
        "print(\"Python:\", sys.version.split()[0])\n",
        "print(\"Platform:\", platform.platform())\n",
        "np.random.seed(42)\n"
      ],
      "id": "Kh9Yp142caat"
    },
    {
      "cell_type": "markdown",
      "metadata": {
        "id": "UOlI5pEzcaau"
      },
      "source": [
        "## 1. Concepts in brief\n",
        "\n",
        "### Projective measurement (single system)\n",
        "- Observable $M = \\sum_m m\\,\\Pi_m$ with projectors $\\{\\Pi_m\\}.$  \n",
        "- For a state $|\\psi\\rangle$:  \n",
        "  - Outcome $m$ occurs with probability $p(m) = \\langle\\psi|\\Pi_m|\\psi\\rangle.$  \n",
        "  - Post-measurement state (Lüders rule): $|\\psi'\\rangle = \\Pi_m|\\psi\\rangle / \\sqrt{p(m)}.$\n",
        "\n",
        "### Partial measurement (multipartite)\n",
        "- If you measure subsystem $A$ in a joint state $\\rho_{AB}$ and get $m,$ the (unnormalised) post-measurement state is  \n",
        "  $(\\Pi_m^A \\otimes I_B)\\,\\rho_{AB}\\,(\\Pi_m^A \\otimes I_B).$ Renormalise by its trace.\n",
        "\n",
        "### No-cloning theorem\n",
        "- **Claim:** There is no unitary $U$ and fixed blank $|\\omega\\rangle$ such that $U|\\psi\\rangle|\\omega\\rangle = |\\psi\\rangle|\\psi\\rangle$ for **all** $|\\psi\\rangle.$\n",
        "- **Proof 1 (linearity):** If cloning works for $|0\\rangle,|1\\rangle,$ linearity would demand  \n",
        "  $U(\\alpha|0\\rangle+\\beta|1\\rangle)|\\omega\\rangle = \\alpha|0\\rangle|0\\rangle + \\beta|1\\rangle|1\\rangle,$  \n",
        "  but perfect cloning requires $(\\alpha|0\\rangle+\\beta|1\\rangle)^{\\otimes 2},$ which has cross terms $ \\alpha\\beta(|0\\rangle|1\\rangle + |1\\rangle|0\\rangle).$ Contradiction.\n",
        "- **Proof 2 (inner product preservation):** Unitaries preserve inner products. If cloning worked for $|\\psi\\rangle,|\\phi\\rangle,$ then  \n",
        "  $\\langle \\psi|\\phi\\rangle = \\langle \\psi|\\phi\\rangle^2$ ⇒ $\\langle \\psi|\\phi\\rangle \\in \\{0,1\\}.$ So only identical or orthogonal states can be cloned.\n",
        "\n",
        "### Uncertainty intuition (position vs momentum)\n",
        "- Collapsing to a position-like eigenstate broadens momentum distribution (and vice versa).\n",
        "\n"
      ],
      "id": "UOlI5pEzcaau"
    },
    {
      "cell_type": "markdown",
      "source": [
        "## 2. Worked examples\n",
        "Below we implement small utilities to:\n",
        "1. Compute post-measurement states and probabilities for single- and two-qubit systems.\n",
        "2. Numerically illustrate the no-cloning contradiction."
      ],
      "metadata": {
        "id": "HQdWZ_UOgeVa"
      },
      "id": "HQdWZ_UOgeVa"
    },
    {
      "cell_type": "code",
      "metadata": {
        "id": "7Skr6KHjcaav"
      },
      "execution_count": null,
      "outputs": [],
      "source": [
        "# Code: utilities\n",
        "\n",
        "import numpy as np\n",
        "\n",
        "# Basic ket helpers\n",
        "zero = np.array([[1.0],[0.0]])\n",
        "one  = np.array([[0.0],[1.0]])\n",
        "\n",
        "def ket(v):\n",
        "    v = np.array(v, dtype=complex).reshape(-1,1)\n",
        "    # normalise if not zero\n",
        "    n = np.linalg.norm(v)\n",
        "    return v / n if n>0 else v\n",
        "\n",
        "def kron(*args):\n",
        "    M = np.array([[1.0]])\n",
        "    for A in args:\n",
        "        M = np.kron(M, A)\n",
        "    return M\n",
        "\n",
        "# Projector for |v>\n",
        "def projector(v):\n",
        "    return v @ v.conj().T\n",
        "\n",
        "# Measurement on a state vector with projectors {Pi_i}\n",
        "def measure_state(psi, projectors):\n",
        "    probs = [float((psi.conj().T @ P @ psi).real) for P in projectors]\n",
        "    outcomes = []\n",
        "    for i,P in enumerate(projectors):\n",
        "        p = probs[i]\n",
        "        if p > 0:\n",
        "            post = P @ psi / np.sqrt(p)\n",
        "        else:\n",
        "            post = None\n",
        "        outcomes.append((i, p, post))\n",
        "    return outcomes\n",
        "\n",
        "# Partial measurement on first qubit in Z basis for a 2-qubit pure state\n",
        "Z0 = projector(zero)\n",
        "Z1 = projector(one)\n",
        "\n",
        "def measure_first_qubit_Z(psi2):\n",
        "    P0 = kron(Z0, np.eye(2))\n",
        "    P1 = kron(Z1, np.eye(2))\n",
        "    probs = []\n",
        "    posts = []\n",
        "    for P in (P0,P1):\n",
        "        num = P @ psi2\n",
        "        p = float((num.conj().T @ num).real)\n",
        "        probs.append(p)\n",
        "        if p>0:\n",
        "            posts.append(num/np.sqrt(p))\n",
        "        else:\n",
        "            posts.append(None)\n",
        "    return probs, posts\n",
        "\n",
        "# Pretty print vector (2^n dim)\n",
        "def show_state(psi, tol=1e-10):\n",
        "    psi = psi.flatten()\n",
        "    terms = []\n",
        "    n = int(np.log2(len(psi)))\n",
        "    for i,amp in enumerate(psi):\n",
        "        if abs(amp) > tol:\n",
        "            b = format(i, f\"0{n}b\")\n",
        "            terms.append(f\"{amp:.3g}|{b}>\")\n",
        "    return \" + \".join(terms) if terms else \"0\"\n"
      ],
      "id": "7Skr6KHjcaav"
    },
    {
      "cell_type": "code",
      "source": [
        "# Example: partial measurement two-qubit\n",
        "\n",
        "# Example: two-qubit state and partial measurement on qubit A\n",
        "alpha, beta, gamma, delta = 1/np.sqrt(10), 2/np.sqrt(10), 1/np.sqrt(10), 2/np.sqrt(10)\n",
        "psi2 = alpha*kron(zero,zero) + beta*kron(zero,one) + gamma*kron(one,zero) + delta*kron(one,one)\n",
        "print(\"Initial |ψ> =\", show_state(psi2))\n",
        "\n",
        "probs, posts = measure_first_qubit_Z(psi2)\n",
        "for outcome, (p, post) in enumerate(zip(probs, posts)):\n",
        "    print(f\"Outcome A={outcome} with p={p:.3f}:  |ψ'> =\", show_state(post) if post is not None else \"—\")\n"
      ],
      "metadata": {
        "colab": {
          "base_uri": "https://localhost:8080/"
        },
        "id": "Zc7E5SUfg4IK",
        "outputId": "4c2c0045-4446-4f9c-85f7-60b1410b98c8"
      },
      "id": "Zc7E5SUfg4IK",
      "execution_count": null,
      "outputs": [
        {
          "output_type": "stream",
          "name": "stdout",
          "text": [
            "Initial |ψ> = 0.316|00> + 0.632|01> + 0.316|10> + 0.632|11>\n",
            "Outcome A=0 with p=0.500:  |ψ'> = 0.447|00> + 0.894|01>\n",
            "Outcome A=1 with p=0.500:  |ψ'> = 0.447|10> + 0.894|11>\n"
          ]
        },
        {
          "output_type": "stream",
          "name": "stderr",
          "text": [
            "/tmp/ipython-input-2443067568.py:49: DeprecationWarning: Conversion of an array with ndim > 0 to a scalar is deprecated, and will error in future. Ensure you extract a single element from your array before performing this operation. (Deprecated NumPy 1.25.)\n",
            "  p = float((num.conj().T @ num).real)\n"
          ]
        }
      ]
    },
    {
      "cell_type": "code",
      "source": [
        "# Example: single-qubit measurement in arbitrary basis\n",
        "\n",
        "# Define an arbitrary orthonormal basis {|u>, |u_perp>} and measure\n",
        "theta, phi = 0.37, 1.21\n",
        "u = ket([np.cos(theta/2), np.exp(1j*phi)*np.sin(theta/2)])\n",
        "u_perp = ket([-np.exp(-1j*phi)*np.sin(theta/2), np.cos(theta/2)])\n",
        "\n",
        "psi = ket([0.6, 0.8j])  # arbitrary state\n",
        "outs = measure_state(psi, [projector(u), projector(u_perp)])\n",
        "for i, p, post in outs:\n",
        "    print(f\"Outcome {i}, p={p:.4f}, |ψ'> =\", show_state(post))\n"
      ],
      "metadata": {
        "colab": {
          "base_uri": "https://localhost:8080/"
        },
        "id": "5TmTbpQ3hP3K",
        "outputId": "8b3a9ba7-1094-4067-c2ab-a2f828484c47"
      },
      "id": "5TmTbpQ3hP3K",
      "execution_count": null,
      "outputs": [
        {
          "output_type": "stream",
          "name": "stdout",
          "text": [
            "Outcome 0, p=0.5319, |ψ'> = 0.98+0.07j|0> + 0.0525+0.176j|1>\n",
            "Outcome 1, p=0.4681, |ψ'> = -0.168-0.0746j|0> + -0.056+0.981j|1>\n"
          ]
        },
        {
          "output_type": "stream",
          "name": "stderr",
          "text": [
            "/tmp/ipython-input-3639086099.py:27: DeprecationWarning: Conversion of an array with ndim > 0 to a scalar is deprecated, and will error in future. Ensure you extract a single element from your array before performing this operation. (Deprecated NumPy 1.25.)\n",
            "  probs = [float((psi.conj().T @ P @ psi).real) for P in projectors]\n"
          ]
        }
      ]
    },
    {
      "cell_type": "code",
      "source": [
        "# No-cloning: numerical illustration\n",
        "\n",
        "# Suppose a \"cloner\" is linear and clones |0>, |1> with a fixed blank |ω>=|0>\n",
        "# Define U's action on basis inputs (not actually building a full unitary here):\n",
        "def putative_clone(psi):\n",
        "    # emulate linear extension: clone basis but superpositions map linearly\n",
        "    # U|0>|0> -> |0>|0>, U|1>|0> -> |1>|1>\n",
        "    a, b = psi.flatten()\n",
        "    out = a * kron(zero, zero) + b * kron(one, one)\n",
        "    return out\n",
        "\n",
        "# Now test superposition |ψ> = (|0>+|1>)/√2\n",
        "psi = ket([1/np.sqrt(2), 1/np.sqrt(2)])\n",
        "lhs = putative_clone(psi)                 # linear output\n",
        "rhs = ket([1/np.sqrt(2), 1/np.sqrt(2)])   # desired single\n",
        "rhs = kron(rhs, rhs)                      # desired perfect clone |ψ>⊗|ψ>\n",
        "\n",
        "print(\"Linear extension output:   \", show_state(lhs))\n",
        "print(\"Perfect-clone target:      \", show_state(rhs))\n",
        "print(\"Are they equal (within tol)?\", np.allclose(lhs, rhs, atol=1e-9))\n"
      ],
      "metadata": {
        "colab": {
          "base_uri": "https://localhost:8080/"
        },
        "id": "CpMn0X34haHx",
        "outputId": "a6095957-3851-4d76-859d-8df0ea51e0e6"
      },
      "id": "CpMn0X34haHx",
      "execution_count": null,
      "outputs": [
        {
          "output_type": "stream",
          "name": "stdout",
          "text": [
            "Linear extension output:    0.707+0j|00> + 0.707+0j|11>\n",
            "Perfect-clone target:       0.5+0j|00> + 0.5+0j|01> + 0.5+0j|10> + 0.5+0j|11>\n",
            "Are they equal (within tol)? False\n"
          ]
        }
      ]
    },
    {
      "cell_type": "markdown",
      "source": [
        "# Key equations\n",
        "\n",
        "## 3. Key equations and statements\n",
        "\n",
        "- **Born rule:** $p(m) = \\langle\\psi|\\Pi_m|\\psi\\rangle.$\n",
        "- **Post-measurement state (Lüders):** $|\\psi'\\rangle = \\Pi_m|\\psi\\rangle/\\sqrt{p(m)}.$\n",
        "- **No-cloning (inner-product proof):** If $U|\\psi\\rangle|\\omega\\rangle = |\\psi\\rangle|\\psi\\rangle$ and $U|\\phi\\rangle|\\omega\\rangle = |\\phi\\rangle|\\phi\\rangle$ for all $|\\psi\\rangle,|\\phi\\rangle,$ then  \n",
        "  $ \\langle \\psi|\\phi\\rangle = \\langle \\psi|\\phi\\rangle^2 \\Rightarrow \\langle \\psi|\\phi\\rangle \\in \\{0,1\\}.$\n",
        "- **Linearity contradiction:** Cloning $|0\\rangle,|1\\rangle$ implies $U(\\alpha|0\\rangle+\\beta|1\\rangle)|\\omega\\rangle$ lacks the cross terms required by $(\\alpha|0\\rangle+\\beta|1\\rangle)^{\\otimes 2}.$\n",
        "\n"
      ],
      "metadata": {
        "id": "KxqA9Eughgh5"
      },
      "id": "KxqA9Eughgh5"
    },
    {
      "cell_type": "markdown",
      "metadata": {
        "id": "l8j29brhcaaw"
      },
      "source": [
        "# Try it yourself\n",
        "\n",
        "## 4. Try it yourself\n",
        "\n",
        "1. **Partial measurement practice**  \n",
        "   Modify the two-qubit state in the example and verify the post-measurement states for different bases (e.g., X or Y on the first qubit).\n",
        "\n",
        "2. **Custom projector**  \n",
        "   Build a function that measures in the $|\\pm\\rangle$ basis and confirm that repeated measurement yields deterministic outcomes.\n",
        "\n",
        "3. **Cloning check (inner-product)**  \n",
        "   Generate random single-qubit states $|\\psi\\rangle,|\\phi\\rangle$ and compute $s=\\langle\\psi|\\phi\\rangle.$ Show numerically that demanding cloning would require $s=s^2.$\n"
      ],
      "id": "l8j29brhcaaw"
    },
    {
      "cell_type": "markdown",
      "metadata": {
        "id": "3rOvVdpDcaaw"
      },
      "source": [
        "## 5. Reflection\n",
        "\n",
        "- What clicked for you about projectors and renormalisation today?  \n",
        "- Where do you still feel fuzzy (partial vs full measurement, or the logic of the no-cloning proofs)?  \n",
        "- One sentence you would teach your future self about Day 12:\n"
      ],
      "id": "3rOvVdpDcaaw"
    },
    {
      "cell_type": "markdown",
      "metadata": {
        "id": "1F5TW6lacaax"
      },
      "source": [
        "---\n",
        "### Links\n",
        "- **Open in Colab (from GitHub):** replace `YOUR_GITHUB_USERNAME/qucode-21days`\n",
        "  - `https://colab.research.google.com/github/YOUR_GITHUB_USERNAME/qucode-21days/blob/main/Day12_Bernstein-Vazirani_Algorithm.ipynb.ipynb`\n",
        "- **Report an issue / suggest a fix:** link to your repo issues page\n"
      ],
      "id": "1F5TW6lacaax"
    }
  ],
  "metadata": {
    "colab": {
      "provenance": [],
      "include_colab_link": true
    },
    "kernelspec": {
      "display_name": "Python 3",
      "language": "python",
      "name": "python3"
    },
    "language_info": {
      "name": "python",
      "version": "3.x"
    }
  },
  "nbformat": 4,
  "nbformat_minor": 5
}