{
  "cells": [
    {
      "cell_type": "markdown",
      "metadata": {
        "id": "view-in-github",
        "colab_type": "text"
      },
      "source": [
        "<a href=\"https://colab.research.google.com/github/k1151msarandega/QuCode-21-Days-of-Quantum-Challenge-Diary/blob/main/Day13_Quantum_Computing_Models.ipynb\" target=\"_parent\"><img src=\"https://colab.research.google.com/assets/colab-badge.svg\" alt=\"Open In Colab\"/></a>"
      ]
    },
    {
      "cell_type": "markdown",
      "metadata": {
        "id": "mOuY8iWVc-i9"
      },
      "source": [
        "# Day 13 — Quantum Computing Models\n",
        "\n",
        "> _QuCode 21 Days of Quantum Challenge — Learning notebook_\n",
        ">\n",
        "> **Date:** 2025-09-03  \n",
        "> **Author:** Kudzai Musarandega  \n",
        "> **Tags:** quantum, learning, challenge, day-13\n",
        ">\n",
        "> **Learning objectives**\n",
        "> - Contrast the **circuit model**, **adiabatic quantum computation (AQC)**, and **measurement-based quantum computation (MBQC)**.\n",
        "> - Implement Rau's MBQC primitive that realises a single-qubit unitary using only measurements and classical feed-forward.\n",
        "> - Simulate a toy two-level **adiabatic evolution**, study fidelity vs total time, and relate it to the **minimum spectral gap**.\n",
        "> - Build a small **clause Hamiltonian** for SAT and inspect its spectrum.\n",
        ">\n",
        "> **Key takeaways (summary-first)**\n",
        "> - Circuit universality with small gate sets (e.g., {H, T, CNOT}).\n",
        "> - MBQC can replace explicit unitaries with measurements; expected two trials to succeed for the single-qubit primitive.\n",
        "> - Adiabatic run time is limited by the **inverse square of the minimum gap** along the path.\n",
        "> - SAT-to-Hamiltonian maps clauses to energy penalties; ground states encode satisfying assignments."
      ],
      "id": "mOuY8iWVc-i9"
    },
    {
      "cell_type": "markdown",
      "metadata": {
        "id": "2YKgby4Ec-jC"
      },
      "source": [
        "## Resources\n",
        "- **Official/Assigned:**\n",
        "    - [Jochen Rau: Measurement-based computation](https://www.youtube.com/watch?v=7tf3I8gYkOs)\n",
        "    - [Sandro Mareco: ADIABATIC QUANTUM COMPUTATION](https://youtu.be/vFpNNrt-baE?si=4MpI3nPI8RodyaTq)\n",
        "- **Extra reading:**\n",
        "- **Original notes:**\n"
      ],
      "id": "2YKgby4Ec-jC"
    },
    {
      "cell_type": "code",
      "metadata": {
        "id": "nqVnVUvwc-jE"
      },
      "execution_count": null,
      "outputs": [],
      "source": [
        "# %% [markdown]\n",
        "# ### Environment setup (Colab)\n",
        "# If you are running on Colab for the first time today, uncomment to install.\n",
        "# This cell intentionally avoids heavy installs by default.\n",
        "#\n",
        "# !pip -q install qiskit pennylane matplotlib numpy\n",
        "\n",
        "import sys, platform, math, json, numpy as np\n",
        "\n",
        "print(\"Python:\", sys.version.split()[0])\n",
        "print(\"Platform:\", platform.platform())\n",
        "np.random.seed(42)\n"
      ],
      "id": "nqVnVUvwc-jE"
    },
    {
      "cell_type": "markdown",
      "metadata": {
        "id": "XoeN2sTRc-jH"
      },
      "source": [
        "## 1. Concepts in brief\n",
        "\n",
        "### Circuit model\n",
        "- Build poly-size unitaries from a universal gate set. Example minimal set: single-qubit {H, T} and two-qubit CNOT.\n",
        "- Measure in the computational basis to obtain classical output.\n",
        "\n",
        "### Measurement-based QC (MBQC)\n",
        "- Prepare an entangled resource (e.g., a cluster state), then drive computation by single-site measurements with adaptive bases.\n",
        "- **Rau’s proof-of-principle operator**\n",
        "  $\n",
        "  B=\\tfrac12\\big[(\\sigma_x - i\\sigma_y)\\!\\otimes\\! U + (\\sigma_x + i\\sigma_y)\\!\\otimes\\! U^\\dagger\\big],\n",
        "  $\n",
        "  with $B^\\dagger=B$, $B^2=\\mathbb{I}$, spectrum $\\{\\pm1\\}$.\n",
        "  Crucially,\n",
        "  $\n",
        "  B\\big(|0\\rangle\\!\\otimes\\!|\\psi\\rangle\\big)=|1\\rangle\\!\\otimes\\!U|\\psi\\rangle.\n",
        "  $\n",
        "  Follow with a Z-measurement on the ancilla and classical feed-forward; expected number of tries is 2.\n",
        "\n",
        "### Adiabatic quantum computation (AQC)\n",
        "- Evolve under $H(s)=(1-s)H_0+sH_f$, $s\\in[0,1]$, starting in the ground state of $H_0$.\n",
        "- **Adiabatic condition (scaling form):**\n",
        "  $\n",
        "  T \\gtrsim \\frac{1}{\\varepsilon}\\max_s \\frac{\\|\\partial_s H(s)\\|}{g(s)^2},\n",
        "  $\n",
        "  where $g(s)$ is the instantaneous spectral gap.\n",
        "- **SAT encoding:** sum clause penalty terms $H_f=\\sum_j H_{C_j}$ where $H_{C_j}$ assigns energy 1 only to unsatisfied assignments. Ground energy 0 iff the instance is satisfiable.\n"
      ],
      "id": "XoeN2sTRc-jH"
    },
    {
      "cell_type": "code",
      "metadata": {
        "id": "zGKzEpRpc-jI"
      },
      "execution_count": 2,
      "outputs": [],
      "source": [
        "import numpy as np\n",
        "import numpy.linalg as la\n",
        "import math\n",
        "import matplotlib.pyplot as plt\n",
        "\n",
        "np.set_printoptions(precision=4, suppress=True)\n",
        "\n",
        "I2 = np.eye(2, dtype=complex)\n",
        "X  = np.array([[0,1],[1,0]], dtype=complex)\n",
        "Y  = np.array([[0,-1j],[1j,0]], dtype=complex)\n",
        "Z  = np.array([[1,0],[0,-1]], dtype=complex)\n",
        "\n",
        "def kron(*ops):\n",
        "    M = np.array([[1+0j]])\n",
        "    for A in ops:\n",
        "        M = np.kron(M, A)\n",
        "    return M\n",
        "\n",
        "def dagger(M):\n",
        "    return M.conj().T\n",
        "\n",
        "def ket(v):\n",
        "    v = np.array(v, dtype=complex).reshape(-1,1)\n",
        "    n = la.norm(v)\n",
        "    return v/n if n>0 else v\n",
        "\n",
        "def fidelity(psi, phi):\n",
        "    return float(abs(dagger(psi) @ phi)**2)\n",
        "\n",
        "def projector(v):\n",
        "    v = ket(v)\n",
        "    return v @ dagger(v)\n",
        "\n",
        "def pretty(psi, tol=1e-9):\n",
        "    psi = psi.flatten()\n",
        "    n = int(round(math.log2(psi.size)))\n",
        "    terms = []\n",
        "    for i, amp in enumerate(psi):\n",
        "        if abs(amp) > tol:\n",
        "            terms.append(f\"{amp:.3g}|{i:0{n}b}>\")\n",
        "    return \" + \".join(terms) if terms else \"0\"\n"
      ],
      "id": "zGKzEpRpc-jI"
    },
    {
      "cell_type": "markdown",
      "source": [
        "## 2a. Worked examples (MBQC operator B demo)"
      ],
      "metadata": {
        "id": "cyKJfZUJzOkP"
      },
      "id": "cyKJfZUJzOkP"
    },
    {
      "cell_type": "code",
      "source": [
        "# Worked examples (MBQC operator B demo)\n",
        "\n",
        "import numpy as np\n",
        "\n",
        "def dagger(A):\n",
        "    return A.conj().T\n",
        "\n",
        "# Pauli matrices\n",
        "I2 = np.eye(2, dtype=complex)\n",
        "sx = np.array([[0,1],[1,0]], dtype=complex)\n",
        "sy = np.array([[0,-1j],[1j,0]], dtype=complex)\n",
        "sz = np.array([[1,0],[0,-1]], dtype=complex)\n",
        "\n",
        "# Basis kets\n",
        "ket0 = np.array([[1.0],[0.0]], dtype=complex)\n",
        "ket1 = np.array([[0.0],[1.0]], dtype=complex)\n",
        "\n",
        "def kron(*ops):\n",
        "    M = np.array([[1.0+0j]])\n",
        "    for A in ops:\n",
        "        M = np.kron(M, A)\n",
        "    return M\n",
        "\n",
        "def random_unitary_2():\n",
        "    # Haar via QR\n",
        "    X = (np.random.randn(2,2) + 1j*np.random.randn(2,2))/np.sqrt(2)\n",
        "    Q,R = np.linalg.qr(X)\n",
        "    d = np.diag(R)\n",
        "    ph = d/np.abs(d)\n",
        "    return Q @ np.diag(ph)\n",
        "\n",
        "def normalise(v):\n",
        "    n = np.linalg.norm(v)\n",
        "    return v/n if n>0 else v\n",
        "\n",
        "# Build B for a given 1-qubit unitary U\n",
        "def build_B(U):\n",
        "    term1 = kron((sx - 1j*sy)/2, U)\n",
        "    term2 = kron((sx + 1j*sy)/2, dagger(U))\n",
        "    return term1 + term2\n",
        "\n",
        "# Demo\n",
        "np.random.seed(7)\n",
        "U = random_unitary_2()\n",
        "B = build_B(U)\n",
        "\n",
        "# Checks: Hermitian and idempotent square to identity\n",
        "hermitian_ok = np.allclose(B, dagger(B), atol=1e-10)\n",
        "square_ok = np.allclose(B @ B, np.eye(4, dtype=complex), atol=1e-10)\n",
        "\n",
        "# Action on |0>⊗|ψ> equals |1>⊗U|ψ>\n",
        "psi = normalise(np.random.randn(2,1)+1j*np.random.randn(2,1))\n",
        "lhs = B @ kron(ket0, psi)\n",
        "rhs = kron(ket1, U @ psi)\n",
        "action_ok = np.allclose(lhs, rhs, atol=1e-10)\n",
        "\n",
        "print(f\"Hermitian: {hermitian_ok},  B^2=I: {square_ok},  Correct action: {action_ok}\")\n"
      ],
      "metadata": {
        "colab": {
          "base_uri": "https://localhost:8080/"
        },
        "id": "tynYrzqBzIBn",
        "outputId": "8f7902b2-064a-453a-9276-e3374763b32a"
      },
      "id": "tynYrzqBzIBn",
      "execution_count": 3,
      "outputs": [
        {
          "output_type": "stream",
          "name": "stdout",
          "text": [
            "Hermitian: True,  B^2=I: True,  Correct action: True\n"
          ]
        }
      ]
    },
    {
      "cell_type": "markdown",
      "metadata": {
        "id": "lXuLaQj8c-jJ"
      },
      "source": [
        "## 2b. Worked examples (AQC toy gap)"
      ],
      "id": "lXuLaQj8c-jJ"
    },
    {
      "cell_type": "code",
      "source": [
        "# Worked examples (AQC toy gap)\n",
        "\n",
        "import numpy as np\n",
        "\n",
        "# H(s) = (1-s)*Δ σx + s*δ σz for a single qubit; compute instantaneous gap and its minimum\n",
        "def H_single(s, Delta=1.0, delta=0.3):\n",
        "    return (1-s)*Delta*sx + s*delta*sz\n",
        "\n",
        "def gap(s, Delta=1.0, delta=0.3):\n",
        "    # For 2x2 Hermitian, eigenvalues ±||h||; gap = 2*norm of Bloch vector\n",
        "    hx, hz = (1-s)*Delta, s*delta\n",
        "    return 2.0*np.sqrt(hx*hx + hz*hz)\n",
        "\n",
        "def min_gap(Delta=1.0, delta=0.3, grid=10001):\n",
        "    ss = np.linspace(0,1,grid)\n",
        "    gs = np.array([gap(s, Delta, delta) for s in ss])\n",
        "    idx = np.argmin(gs)\n",
        "    return ss[idx], gs[idx]\n",
        "\n",
        "for Delta, delta in [(1.0, 0.3), (1.0, 1.0), (2.0, 0.2)]:\n",
        "    s_star, gmin = min_gap(Delta, delta)\n",
        "    print(f\"Δ={Delta:.2f}, δ={delta:.2f} -> s*≈{s_star:.4f}, g_min≈{gmin:.6f}, suggested T ∝ 1/g_min^2≈{(1/gmin**2):.2f}\")\n"
      ],
      "metadata": {
        "colab": {
          "base_uri": "https://localhost:8080/"
        },
        "id": "6cFlfwA-zcx4",
        "outputId": "7de7876e-a654-48f7-b55e-cf3e57a1d61f"
      },
      "id": "6cFlfwA-zcx4",
      "execution_count": 4,
      "outputs": [
        {
          "output_type": "stream",
          "name": "stdout",
          "text": [
            "Δ=1.00, δ=0.30 -> s*≈0.9174, g_min≈0.574696, suggested T ∝ 1/g_min^2≈3.03\n",
            "Δ=1.00, δ=1.00 -> s*≈0.5000, g_min≈1.414214, suggested T ∝ 1/g_min^2≈0.50\n",
            "Δ=2.00, δ=0.20 -> s*≈0.9901, g_min≈0.398015, suggested T ∝ 1/g_min^2≈6.31\n"
          ]
        }
      ]
    },
    {
      "cell_type": "markdown",
      "source": [
        "## 3. Key equations and statements\n",
        "\n",
        "- **Circuit universality:** {H, T, CNOT} generates all poly-size circuits.\n",
        "- **MBQC steering operator**\n",
        "  $\n",
        "  B=\\tfrac12\\big[(\\sigma_x - i\\sigma_y)\\otimes U + (\\sigma_x + i\\sigma_y)\\otimes U^\\dagger\\big],\\quad\n",
        "  B^\\dagger=B,\\; B^2=\\mathbb{I},\\; \\mathrm{spec}(B)=\\{\\pm1\\}.\n",
        "  $\n",
        "  Post-measurement projector: $\\Pi_\\pm=\\tfrac12(\\mathbb{I}\\pm B)$.\n",
        "- **Adiabatic path:** $H(s)=(1-s)H_0+sH_f$.\n",
        "- **Gap condition (scaling):** for error $\\varepsilon$,\n",
        "  $\n",
        "  T \\gtrsim \\frac{1}{\\varepsilon}\\max_s \\frac{\\|\\partial_s H(s)\\|}{g(s)^2}.\n",
        "  $\n",
        "- **Clause penalty example (3-SAT):** for clause $x_1\\lor x_2\\lor x_3$, $H_C$ is diagonal with 1 only on $|000\\rangle\\langle 000|$, 0 elsewhere."
      ],
      "metadata": {
        "id": "H4sGYj3_ziQ-"
      },
      "id": "H4sGYj3_ziQ-"
    },
    {
      "cell_type": "markdown",
      "source": [
        "## 4. Try it yourself\n",
        "\n",
        "1. **MBQC algebra:** starting from the definition of $B$, verify symbolically (or numerically) that\n",
        "   $B(|0\\rangle\\!\\otimes\\!|\\psi\\rangle)=|1\\rangle\\!\\otimes\\!U|\\psi\\rangle$ and $\\mathbb E[B]=0$ on $|0\\rangle\\!\\otimes\\!|\\psi\\rangle$.\n",
        "\n",
        "2. **MBQC universality sketch:** outline a measurement pattern to realise CNOT using an ancilla and suitable two-qubit observables.\n",
        "\n",
        "3. **AQC gap tuning:** modify $\\Delta,\\delta$ in the toy model and map $g_{\\min}$ versus parameters. Discuss how this affects the required $T$.\n",
        "\n",
        "4. **SAT Hamiltonian mini-build:** for two clauses on three qubits, construct $H_f$, list all eigenvalues, and identify the ground-space assignments.\n"
      ],
      "metadata": {
        "id": "SGvFyKLB0AY-"
      },
      "id": "SGvFyKLB0AY-"
    },
    {
      "cell_type": "markdown",
      "metadata": {
        "id": "I_mPbirGc-jK"
      },
      "source": [
        "## 5. Reflection\n",
        "\n",
        "- Which model feels most intuitive to you today, and why?  \n",
        "- Where do you see the clearest trade-off between theoretical elegance and practicality?  \n",
        "- One sentence to future you about MBQC and AQC to remember later."
      ],
      "id": "I_mPbirGc-jK"
    },
    {
      "cell_type": "markdown",
      "metadata": {
        "id": "s0fYO7JQc-jL"
      },
      "source": [
        "---\n",
        "### Links\n",
        "- **Open in Colab (from GitHub):** replace `YOUR_GITHUB_USERNAME/qucode-21days`\n",
        "  - `https://colab.research.google.com/github/YOUR_GITHUB_USERNAME/qucode-21days/blob/main/Day13_Grover’s_Search.ipynb.ipynb`\n",
        "- **Report an issue / suggest a fix:** link to your repo issues page\n"
      ],
      "id": "s0fYO7JQc-jL"
    }
  ],
  "metadata": {
    "colab": {
      "provenance": [],
      "include_colab_link": true
    },
    "kernelspec": {
      "display_name": "Python 3",
      "language": "python",
      "name": "python3"
    },
    "language_info": {
      "name": "python",
      "version": "3.x"
    }
  },
  "nbformat": 4,
  "nbformat_minor": 5
}