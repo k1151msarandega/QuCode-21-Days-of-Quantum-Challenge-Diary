{
  "cells": [
    {
      "cell_type": "markdown",
      "metadata": {
        "id": "view-in-github",
        "colab_type": "text"
      },
      "source": [
        "<a href=\"https://colab.research.google.com/github/k1151msarandega/QuCode-21-Days-of-Quantum-Challenge-Diary/blob/main/Day02_Probability_Theory_%26_Statistics.ipynb\" target=\"_parent\"><img src=\"https://colab.research.google.com/assets/colab-badge.svg\" alt=\"Open In Colab\"/></a>"
      ]
    },
    {
      "cell_type": "markdown",
      "metadata": {
        "id": "hZPKkEjYIEJG"
      },
      "source": [
        "# Day 02 — Probability Theory & Statistics\n",
        "\n",
        "> _QuCode 21 Days of Quantum Challenge — Learning notebook_\n",
        ">\n",
        "> **Date:** 2025-09-02  \n",
        "> **Author:** Kudzai Musarandega  \n",
        "> **Tags:** quantum, learning, challenge, day-02\n",
        ">\n",
        "> **Learning objectives**\n",
        "> - Build intuition for conditional probability and the law of total probability.\n",
        "> - Understand Bayes’ Theorem with the “prior × likelihood / evidence” structure.\n",
        "> - Recognise when Bayes’ Theorem is appropriate and translate word problems into $P(\\cdot)$ notation.\n",
        "> - Compute posteriors in simple diagnostic and classification settings.\n",
        ">\n",
        "> **Key takeaways (summary-first)**\n",
        "> - Conditional probability: $P(A\\mid B)=\\dfrac{P(A\\cap B)}{P(B)}$.\n",
        "> - Law of total probability: $P(E)=\\sum_i P(E\\mid H_i)P(H_i)$ for a partition $\\{H_i\\}$.\n",
        "> - **Bayes’ Theorem:** $$P(H\\mid E)=\\frac{P(E\\mid H)\\,P(H)}{P(E)}=\\frac{P(E\\mid H)\\,P(H)}{P(E\\mid H)\\,P(H)+P(E\\mid \\neg H)\\,P(\\neg H)}.$$\n",
        "> - **Vocabulary:** prior $P(H)$, likelihood $P(E\\mid H)$, evidence $P(E)$, posterior $P(H\\mid E)$.\n",
        "> - Intuition: evidence **updates** priors; it does not replace them.\n",
        "\n"
      ],
      "id": "hZPKkEjYIEJG"
    },
    {
      "cell_type": "markdown",
      "metadata": {
        "id": "YoJDOpNvIEJK"
      },
      "source": [
        "## Resources\n",
        "- **Official/Assigned:**\n",
        "    - [3Blue1Brown: Bayes theorem, the geometry of changing beliefs](https://www.youtube.com/watch?v=HZGCoVF3YvM)\n",
        "    - [The Organic Chemistry Tutor](https://www.youtube.com/watch?v=OByl4RJxnKA)\n",
        "- **Extra reading:**\n",
        "    - [StatQuest: Statistics Fundamentals](https://youtube.com/playlist?list=PLblh5JKOoLUK0FLuzwntyYI10UQFUhsY9&si=01dmzqm_7wFfc4zs)\n",
        "- **Original notes:**\n"
      ],
      "id": "YoJDOpNvIEJK"
    },
    {
      "cell_type": "code",
      "metadata": {
        "id": "q0MkHYE2IEJK"
      },
      "execution_count": null,
      "outputs": [],
      "source": [
        "# %% [markdown]\n",
        "# ### Environment setup (Colab)\n",
        "# If you are running on Colab for the first time today, uncomment to install.\n",
        "# This cell intentionally avoids heavy installs by default.\n",
        "#\n",
        "# !pip -q install qiskit pennylane matplotlib numpy\n",
        "\n",
        "import sys, platform, math, json, numpy as np\n",
        "\n",
        "print(\"Python:\", sys.version.split()[0])\n",
        "print(\"Platform:\", platform.platform())\n",
        "np.random.seed(42)\n"
      ],
      "id": "q0MkHYE2IEJK"
    },
    {
      "cell_type": "markdown",
      "metadata": {
        "id": "h1YHHOasIEJL"
      },
      "source": [
        "## 1. Concepts in brief\n",
        "- Conditional probability quantifies proportions within a restricted space.\n",
        "- Bayes’ Theorem updates belief about a hypothesis H after observing evidence E.\n",
        "- The denominator P(E) is usually expanded via the law of total probability.\n",
        "\n"
      ],
      "id": "h1YHHOasIEJL"
    },
    {
      "cell_type": "markdown",
      "source": [
        "## 2. Worked examples"
      ],
      "metadata": {
        "id": "034SQvv3UfxE"
      },
      "id": "034SQvv3UfxE"
    },
    {
      "cell_type": "code",
      "metadata": {
        "colab": {
          "base_uri": "https://localhost:8080/"
        },
        "id": "W10SbNkhIEJM",
        "outputId": "234edfa4-1aab-49f1-bce7-6c9c1481d55c"
      },
      "execution_count": null,
      "outputs": [
        {
          "output_type": "execute_result",
          "data": {
            "text/plain": [
              "(0.047619047619047616,\n",
              " 0.9523809523809523,\n",
              " 0.11428571428571428,\n",
              " 0.16666666666666669)"
            ]
          },
          "metadata": {},
          "execution_count": 1
        }
      ],
      "source": [
        "# ## 2. Worked examples\n",
        "\n",
        "# ### Example A: “Steve” style prior-vs-likelihood update\n",
        "# Hypotheses: H = \"Librarian\", ¬H = \"Farmer\"\n",
        "# Priors (toy numbers for illustration): P(H)=1/21, P(¬H)=20/21\n",
        "# Likelihoods (how often the description fits): P(E|H)=0.40, P(E|¬H)=0.10\n",
        "\n",
        "import numpy as np\n",
        "\n",
        "P_H = 1/21\n",
        "P_notH = 1 - P_H\n",
        "\n",
        "P_E_given_H = 0.40\n",
        "P_E_given_notH = 0.10\n",
        "\n",
        "# Evidence probability via total probability\n",
        "P_E = P_E_given_H*P_H + P_E_given_notH*P_notH\n",
        "\n",
        "# Posterior\n",
        "P_H_given_E = P_E_given_H*P_H / P_E\n",
        "\n",
        "P_H, P_notH, P_E, P_H_given_E"
      ],
      "id": "W10SbNkhIEJM"
    },
    {
      "cell_type": "code",
      "source": [
        "# **Interpretation (Example A):**\n",
        "# Even if the description is 4× more common among librarians than farmers,\n",
        "# the abundance of farmers can dominate the posterior.\n",
        "\n",
        "# ### Example B: Medical test (from Resource 2)\n",
        "# Prevalence/prior: P(C) = 0.12\n",
        "# Sensitivity: P(Pos|C) = 0.95\n",
        "# False positive rate: P(Pos|¬C) = 0.06\n",
        "\n",
        "P_C = 0.12\n",
        "P_notC = 1 - P_C\n",
        "P_Pos_given_C = 0.95\n",
        "P_Pos_given_notC = 0.06\n",
        "\n",
        "P_Pos = P_Pos_given_C*P_C + P_Pos_given_notC*P_notC\n",
        "P_C_given_Pos = P_Pos_given_C*P_C / P_Pos\n",
        "P_notC_given_Pos = 1 - P_C_given_Pos\n",
        "\n",
        "P_Pos, P_C_given_Pos, P_notC_given_Pos"
      ],
      "metadata": {
        "colab": {
          "base_uri": "https://localhost:8080/"
        },
        "id": "nZlUho6rUw2L",
        "outputId": "81663311-3c0f-4ee1-e66c-c59c904856a3"
      },
      "id": "nZlUho6rUw2L",
      "execution_count": null,
      "outputs": [
        {
          "output_type": "execute_result",
          "data": {
            "text/plain": [
              "(0.1668, 0.6834532374100719, 0.3165467625899281)"
            ]
          },
          "metadata": {},
          "execution_count": 2
        }
      ]
    },
    {
      "cell_type": "markdown",
      "source": [
        "**Interpretation (Example B):**\n",
        "With 12% prevalence and a good (but imperfect) test,\n",
        "P(C|Positive) is about 0.683 → positives are informative, but not definitive.\n"
      ],
      "metadata": {
        "id": "4S7J5D9_U7qC"
      },
      "id": "4S7J5D9_U7qC"
    },
    {
      "cell_type": "code",
      "source": [
        "# OPTIONAL: Area diagram (Matplotlib) — simple rectangles for evidence regions\n",
        "import matplotlib.pyplot as plt\n",
        "\n",
        "# Rectangle areas for the two branches contributing to P(E)\n",
        "left_width = P_H\n",
        "right_width = P_notH\n",
        "left_height = P_E_given_H\n",
        "right_height = P_E_given_notH\n",
        "\n",
        "fig, ax = plt.subplots(figsize=(5, 4))\n",
        "# Left rectangle: H ∧ E\n",
        "ax.add_patch(plt.Rectangle((0, 0), left_width, left_height))\n",
        "# Right rectangle: ¬H ∧ E\n",
        "ax.add_patch(plt.Rectangle((left_width, 0), right_width, right_height))\n",
        "\n",
        "# Outline the 1x1 square\n",
        "ax.add_patch(plt.Rectangle((0, 0), 1, 1, fill=False))\n",
        "\n",
        "ax.set_xlim(0, 1)\n",
        "ax.set_ylim(0, 1)\n",
        "ax.set_xlabel(\"Prior mass (H vs ¬H)\")\n",
        "ax.set_ylabel(\"Likelihood height (E | · )\")\n",
        "ax.set_title(\"Area view of Bayes’ Theorem\")\n",
        "plt.show()"
      ],
      "metadata": {
        "colab": {
          "base_uri": "https://localhost:8080/",
          "height": 410
        },
        "id": "47mVKCL-U2kb",
        "outputId": "7c23c283-a3a0-4c01-ddad-2d9df7513b8e"
      },
      "id": "47mVKCL-U2kb",
      "execution_count": null,
      "outputs": [
        {
          "output_type": "display_data",
          "data": {
            "text/plain": [
              "<Figure size 500x400 with 1 Axes>"
            ],
            "image/png": "[encoded data removed]"
          },
          "metadata": {}
        }
      ]
    },
    {
      "cell_type": "markdown",
      "metadata": {
        "id": "lSBHmTflIEJM"
      },
      "source": [
        "## 3. Try it yourself\n",
        "- **Change the priors:** In Example A, set $P(H)=1/100$ with the same likelihoods. How much does $P(H\\mid E)$ drop?\n",
        "- **Better test, rarer disease:** In Example B, set $P(C)=0.01$, $P(\\text{Pos}\\mid C)=0.99$, $P(\\text{Pos}\\mid \\neg C)=0.01$. What is $P(C\\mid \\text{Pos})$?\n",
        "- **Three-way partition:** Suppose a patient might have one of three strains $H_1,H_2,H_3$ with priors $0.1,0.2,0.7$ and test hit rates $0.9,0.6,0.2$ for a marker $E$. Compute $P(H_i\\mid E)$.\n"
      ],
      "id": "lSBHmTflIEJM"
    },
    {
      "cell_type": "markdown",
      "metadata": {
        "id": "h6Pw3QpDIEJN"
      },
      "source": [
        "## 4. Reflection\n",
        "- Which step is most error-prone for you: setting priors, choosing likelihoods, or expanding $P(E)$?\n",
        "- In your own words: why doesn’t strong evidence always imply a high posterior?\n",
        "- Where do you expect Bayes to show up later in quantum topics (e.g., state tomography, noise inference)?\n"
      ],
      "id": "h6Pw3QpDIEJN"
    },
    {
      "cell_type": "markdown",
      "metadata": {
        "id": "e6LPph2YIEJN"
      },
      "source": [
        "---\n",
        "### Links\n",
        "- **Open in Colab (from GitHub):** replace `YOUR_GITHUB_USERNAME/qucode-21days`\n",
        "  - `https://colab.research.google.com/github/YOUR_GITHUB_USERNAME/qucode-21days/blob/main/Day02_Single-Qubit_Gates.ipynb.ipynb`\n",
        "- **Report an issue / suggest a fix:** link to your repo issues page\n"
      ],
      "id": "e6LPph2YIEJN"
    }
  ],
  "metadata": {
    "colab": {
      "provenance": [],
      "include_colab_link": true
    },
    "kernelspec": {
      "display_name": "Python 3",
      "language": "python",
      "name": "python3"
    },
    "language_info": {
      "name": "python",
      "version": "3.x"
    }
  },
  "nbformat": 4,
  "nbformat_minor": 5
}